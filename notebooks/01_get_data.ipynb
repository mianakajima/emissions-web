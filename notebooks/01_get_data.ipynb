{
 "cells": [
  {
   "cell_type": "markdown",
   "id": "e05fd644-6af3-43c3-8a66-d6860f329eb7",
   "metadata": {},
   "source": [
    "# Getting Emissions and Weather Data Needed \n",
    "Date: 2022-07-05"
   ]
  },
  {
   "cell_type": "markdown",
   "id": "6e62f6bd-f58d-4bf2-8304-e1630b7f202a",
   "metadata": {},
   "source": [
    "## Retrieve Current Emissions from CAISO \n",
    "\n",
    "### Try pyiso API"
   ]
  },
  {
   "cell_type": "markdown",
   "id": "276ebee5-145e-46d0-bceb-83ed192e5b5f",
   "metadata": {},
   "source": [
    "`pyiso` is currently not working for me. Seems like `get_generation(latest = True)` returns a blank, and this is what I need most! "
   ]
  },
  {
   "cell_type": "code",
   "execution_count": 4,
   "id": "7f14d3e2-754e-47eb-bab6-47558dbd45b5",
   "metadata": {},
   "outputs": [],
   "source": [
    "from pyiso import client_factory"
   ]
  },
  {
   "cell_type": "code",
   "execution_count": 14,
   "id": "3fa221c4-c6b5-4d94-8018-78c110da0223",
   "metadata": {},
   "outputs": [],
   "source": [
    "caiso = client_factory('CAISO')"
   ]
  },
  {
   "cell_type": "code",
   "execution_count": 15,
   "id": "8bab3bb6-63a6-4bf3-a7ca-6f31c2ecfe0e",
   "metadata": {},
   "outputs": [
    {
     "data": {
      "text/plain": [
       "[]"
      ]
     },
     "execution_count": 15,
     "metadata": {},
     "output_type": "execute_result"
    }
   ],
   "source": [
    "caiso.get_generation(latest = True)"
   ]
  },
  {
   "cell_type": "markdown",
   "id": "5c24230e-cfa6-4a46-b7bc-2bbbcad23053",
   "metadata": {},
   "source": [
    "### Method 1: Just try getting direct URL from CAISO website\n",
    "\n",
    "I get the URL from going to the [CAISO website](https://www.caiso.com/TodaysOutlook/Pages/supply.html#section-supply-trend) and getting the `href` of the Supply data. "
   ]
  },
  {
   "cell_type": "code",
   "execution_count": 5,
   "id": "8d3b3ba1-5c51-4824-b243-fdb1e002772e",
   "metadata": {},
   "outputs": [],
   "source": [
    "import pandas as pd\n",
    "import urllib.parse\n",
    "from io import StringIO"
   ]
  },
  {
   "cell_type": "markdown",
   "id": "4dfc901f-0427-40a0-9023-eb0e0cc771dc",
   "metadata": {},
   "source": [
    "This fails, says file path is too long: "
   ]
  },
  {
   "cell_type": "code",
   "execution_count": 26,
   "id": "4d7c9461-bf24-4d0f-b397-e4c4cb0545ac",
   "metadata": {},
   "outputs": [],
   "source": [
    "#data = pd.read_csv('data:text/csv;charset=utf8,Supply%2007%2F05%2F2022%2C0%3A00%2C0%3A05%2C0%3A10%2C0%3A15%2C0%3A20%2C0%3A25%2C0%3A30%2C0%3A35%2C0%3A40%2C0%3A45%2C0%3A50%2C0%3A55%2C1%3A00%2C1%3A05%2C1%3A10%2C1%3A15%2C1%3A20%2C1%3A25%2C1%3A30%2C1%3A35%2C1%3A40%2C1%3A45%2C1%3A50%2C1%3A55%2C2%3A00%2C2%3A05%2C2%3A10%2C2%3A15%2C2%3A20%2C2%3A25%2C2%3A30%2C2%3A35%2C2%3A40%2C2%3A45%2C2%3A50%2C2%3A55%2C3%3A00%2C3%3A05%2C3%3A10%2C3%3A15%2C3%3A20%2C3%3A25%2C3%3A30%2C3%3A35%2C3%3A40%2C3%3A45%2C3%3A50%2C3%3A55%2C4%3A00%2C4%3A05%2C4%3A10%2C4%3A15%2C4%3A20%2C4%3A25%2C4%3A30%2C4%3A35%2C4%3A40%2C4%3A45%2C4%3A50%2C4%3A55%2C5%3A00%2C5%3A05%2C5%3A10%2C5%3A15%2C5%3A20%2C5%3A25%2C5%3A30%2C5%3A35%2C5%3A40%2C5%3A45%2C5%3A50%2C5%3A55%2C6%3A00%2C6%3A05%2C6%3A10%2C6%3A15%2C6%3A20%2C6%3A25%2C6%3A30%2C6%3A35%2C6%3A40%2C6%3A45%2C6%3A50%2C6%3A55%2C7%3A00%2C7%3A05%2C7%3A10%2C7%3A15%2C7%3A20%2C7%3A25%2C7%3A30%2C7%3A35%2C7%3A40%2C7%3A45%2C7%3A50%2C7%3A55%2C8%3A00%2C8%3A05%2C8%3A10%2C8%3A15%2C8%3A20%2C8%3A25%2C8%3A30%2C8%3A35%2C8%3A40%2C8%3A45%2C8%3A50%2C8%3A55%2C9%3A00%2C9%3A05%2C9%3A10%2C9%3A15%2C9%3A20%2C9%3A25%2C9%3A30%2C9%3A35%2C9%3A40%2C9%3A45%2C9%3A50%2C9%3A55%2C10%3A00%2C10%3A05%2C10%3A10%2C10%3A15%2C10%3A20%2C10%3A25%2C10%3A30%2C10%3A35%2C10%3A40%2C10%3A45%2C10%3A50%2C10%3A55%2C11%3A00%2C11%3A05%2C11%3A10%2C11%3A15%2C11%3A20%2C11%3A25%2C11%3A30%2C11%3A35%2C11%3A40%2C%0ARenewables%2C6177%2C6156%2C6151%2C6140%2C6120%2C6084%2C6053%2C5998%2C5974%2C5937%2C5893%2C5864%2C5815%2C5761%2C5742%2C5732%2C5697%2C5606%2C5546%2C5506%2C5478%2C5446%2C5436%2C5438%2C5459%2C5488%2C5502%2C5512%2C5532%2C5545%2C5549%2C5542%2C5558%2C5544%2C5519%2C5506%2C5511%2C5538%2C5566%2C5576%2C5593%2C5593%2C5606%2C5620%2C5649%2C5663%2C5690%2C5693%2C5699%2C5725%2C5710%2C5698%2C5680%2C5668%2C5655%2C5613%2C5572%2C5544%2C5528%2C5512%2C5502%2C5493%2C5478%2C5426%2C5410%2C5377%2C5335%2C5309%2C5297%2C5301%2C5294%2C5335%2C5417%2C5544%2C5742%2C5959%2C6200%2C6463%2C6803%2C7185%2C7687%2C8156%2C8573%2C9001%2C9530%2C10110%2C10632%2C11103%2C11562%2C12230%2C12756%2C13310%2C13712%2C14286%2C14720%2C14879%2C15070%2C15180%2C15488%2C15707%2C15929%2C16121%2C16309%2C16434%2C16571%2C16672%2C16822%2C16944%2C16946%2C17065%2C17228%2C17251%2C17255%2C17246%2C17223%2C17214%2C17299%2C17284%2C17331%2C17402%2C17558%2C17713%2C17802%2C17867%2C17863%2C17861%2C17839%2C17858%2C17882%2C17843%2C17807%2C17854%2C17843%2C17854%2C17854%2C17846%2C17823%2C17800%2C17877%2C18041%2C18039%2C%0ANatural%20gas%2C6375%2C6530%2C6314%2C6333%2C6429%2C6373%2C6362%2C6314%2C6272%2C6297%2C6231%2C6099%2C5991%2C5796%2C5669%2C5634%2C5546%2C5510%2C5483%2C5342%2C5286%2C5220%2C5237%2C5333%2C5321%2C5432%2C5421%2C5322%2C5280%2C5308%2C5334%2C5303%2C5202%2C5200%2C5168%2C5086%2C4944%2C5239%2C5565%2C5486%2C5461%2C5527%2C5536%2C5523%2C5518%2C5519%2C5517%2C5567%2C5492%2C5409%2C5523%2C5477%2C5488%2C5537%2C5548%2C5587%2C5582%2C5581%2C5606%2C5573%2C5580%2C5593%2C5444%2C5475%2C5520%2C5539%2C5536%2C5594%2C5651%2C5726%2C5754%2C5798%2C5952%2C6126%2C6056%2C6023%2C6050%2C5978%2C5974%2C6013%2C5970%2C5982%2C6104%2C5910%2C5676%2C5291%2C4916%2C4865%2C4929%2C4920%2C4950%2C5010%2C5107%2C5170%2C5241%2C5586%2C5629%2C5388%2C5086%2C5117%2C5366%2C5518%2C5570%2C5588%2C5516%2C5500%2C5406%2C5490%2C5470%2C5365%2C5603%2C5695%2C5627%2C5580%2C5588%2C5457%2C5453%2C5530%2C5496%2C5697%2C5764%2C5671%2C5596%2C5568%2C5548%2C5364%2C5186%2C5247%2C5255%2C5322%2C5276%2C5157%2C5179%2C5215%2C5364%2C5337%2C5235%2C5207%2C5120%2C5301%2C5195%0ALarge%20hydro%2C2030%2C2089%2C2167%2C2109%2C2106%2C2111%2C2105%2C2110%2C2113%2C2106%2C2121%2C2125%2C2121%2C2129%2C2121%2C2109%2C2095%2C2100%2C2098%2C2048%2C2066%2C1994%2C1936%2C1944%2C1943%2C1928%2C1910%2C1900%2C1897%2C1897%2C1893%2C1903%2C1900%2C1887%2C1846%2C1845%2C1831%2C1745%2C1705%2C1695%2C1696%2C1696%2C1701%2C1700%2C1695%2C1697%2C1698%2C1689%2C1690%2C1731%2C1750%2C1748%2C1738%2C1736%2C1732%2C1739%2C1741%2C1747%2C1742%2C1748%2C1817%2C2112%2C2236%2C2238%2C2236%2C2231%2C2233%2C2239%2C2231%2C2233%2C2232%2C2218%2C2238%2C2365%2C2474%2C2502%2C2507%2C2488%2C2476%2C2488%2C2493%2C2487%2C2499%2C2443%2C2276%2C1770%2C1463%2C1480%2C1516%2C1501%2C1465%2C1444%2C1445%2C1414%2C1409%2C1440%2C1415%2C1293%2C1219%2C1206%2C1204%2C1208%2C1209%2C1227%2C1235%2C1236%2C1235%2C1236%2C1236%2C1222%2C1211%2C1204%2C1195%2C1209%2C1212%2C1211%2C1211%2C1216%2C1219%2C1217%2C1209%2C1218%2C1221%2C1217%2C1204%2C1193%2C1192%2C1197%2C1201%2C1206%2C1203%2C1198%2C1212%2C1165%2C1113%2C1070%2C1068%2C1074%2C1075%2C1073%2C1075%0AImports%2C8935%2C8729%2C8646%2C8663%2C8640%2C8636%2C8624%2C8625%2C8633%2C8492%2C8464%2C8487%2C8506%2C8554%2C8679%2C8614%2C8643%2C8773%2C8684%2C8715%2C8697%2C8739%2C8755%2C8674%2C8621%2C8568%2C8552%2C8615%2C8687%2C8684%2C8614%2C8593%2C8538%2C8522%2C8526%2C8473%2C8435%2C8611%2C8598%2C8644%2C8637%2C8612%2C8559%2C8543%2C8494%2C8460%2C8468%2C8501%2C8478%2C8398%2C8256%2C8209%2C8305%2C8360%2C8404%2C8543%2C8696%2C8719%2C8701%2C8689%2C8630%2C8505%2C8574%2C8625%2C8684%2C8757%2C8840%2C8885%2C8966%2C8930%2C8978%2C8920%2C8465%2C7894%2C7518%2C7228%2C7068%2C6969%2C6960%2C6859%2C6629%2C6463%2C6259%2C6153%2C6043%2C6354%2C6321%2C6085%2C5814%2C5527%2C5365%2C5076%2C4773%2C4503%2C4287%2C4189%2C3820%2C4308%2C4322%2C4219%2C4279%2C4192%2C3964%2C3805%2C3601%2C3546%2C3364%2C3391%2C3294%2C3417%2C3443%2C3438%2C3381%2C3310%2C3216%2C3184%2C3145%2C3128%2C3114%2C3164%2C3106%2C3006%2C2923%2C2823%2C2642%2C2407%2C2339%2C2235%2C2348%2C2327%2C2292%2C2196%2C2263%2C2472%2C2375%2C2329%2C2297%2C2312%2C2491%2C2398%2C2243%0ABatteries%2C112%2C334%2C420%2C203%2C161%2C59%2C30%2C-41%2C-63%2C-47%2C-51%2C-40%2C-26%2C52%2C54%2C95%2C33%2C-12%2C32%2C72%2C76%2C43%2C35%2C25%2C-27%2C-53%2C-26%2C-83%2C-151%2C-204%2C-214%2C-217%2C-180%2C-192%2C-192%2C-98%2C-23%2C-347%2C-385%2C-371%2C-436%2C-449%2C-451%2C-451%2C-450%2C-451%2C-476%2C-493%2C-373%2C-329%2C-215%2C-149%2C-253%2C-270%2C-271%2C-353%2C-373%2C-362%2C-336%2C-255%2C-170%2C-161%2C-116%2C-83%2C-115%2C-98%2C-81%2C-77%2C-111%2C-155%2C-192%2C-143%2C150%2C513%2C716%2C792%2C733%2C597%2C390%2C205%2C152%2C-30%2C-176%2C-166%2C-132%2C39%2C356%2C191%2C149%2C-5%2C-159%2C-236%2C-373%2C-516%2C-667%2C-825%2C-781%2C-850%2C-695%2C-855%2C-1113%2C-1207%2C-1207%2C-1211%2C-1134%2C-1167%2C-1088%2C-1215%2C-1102%2C-1280%2C-1458%2C-1431%2C-1364%2C-1298%2C-1262%2C-1132%2C-1226%2C-1261%2C-1374%2C-1482%2C-1534%2C-1537%2C-1498%2C-1474%2C-1361%2C-1152%2C-1034%2C-1001%2C-1157%2C-1080%2C-994%2C-905%2C-972%2C-1106%2C-957%2C-887%2C-794%2C-704%2C-834%2C-868%2C-638%0ANuclear%2C2267%2C2267%2C2267%2C2267%2C2267%2C2268%2C2267%2C2267%2C2268%2C2268%2C2268%2C2268%2C2268%2C2268%2C2268%2C2268%2C2268%2C2268%2C2268%2C2268%2C2268%2C2268%2C2268%2C2268%2C2267%2C2267%2C2267%2C2267%2C2268%2C2268%2C2268%2C2269%2C2268%2C2270%2C2269%2C2269%2C2270%2C2269%2C2270%2C2270%2C2270%2C2270%2C2271%2C2271%2C2269%2C2270%2C2270%2C2270%2C2270%2C2270%2C2270%2C2270%2C2271%2C2269%2C2270%2C2270%2C2270%2C2269%2C2270%2C2270%2C2270%2C2270%2C2270%2C2269%2C2269%2C2270%2C2270%2C2270%2C2269%2C2270%2C2270%2C2271%2C2270%2C2270%2C2270%2C2270%2C2271%2C2270%2C2271%2C2270%2C2271%2C2270%2C2271%2C2271%2C2271%2C2271%2C2272%2C2271%2C2272%2C2271%2C2271%2C2271%2C2271%2C2271%2C2271%2C2270%2C2272%2C2270%2C2271%2C2271%2C2271%2C2271%2C2270%2C2271%2C2271%2C2271%2C2272%2C2270%2C2271%2C2271%2C2270%2C2271%2C2271%2C2272%2C2271%2C2272%2C2272%2C2271%2C2272%2C2272%2C2271%2C2272%2C2272%2C2272%2C2272%2C2272%2C2272%2C2272%2C2270%2C2272%2C2271%2C2271%2C2270%2C2270%2C2269%2C2269%2C2268%2C2269%2C2268%2C2269%2C2269%0ACoal%2C9%2C10%2C10%2C9%2C9%2C9%2C9%2C9%2C9%2C9%2C9%2C9%2C9%2C9%2C9%2C9%2C9%2C9%2C8%2C8%2C9%2C8%2C9%2C9%2C9%2C9%2C10%2C9%2C9%2C9%2C9%2C11%2C11%2C10%2C10%2C10%2C10%2C10%2C10%2C10%2C10%2C10%2C10%2C10%2C9%2C9%2C10%2C9%2C9%2C10%2C9%2C10%2C9%2C9%2C9%2C10%2C10%2C10%2C10%2C9%2C9%2C10%2C10%2C10%2C10%2C9%2C9%2C9%2C9%2C9%2C9%2C9%2C8%2C8%2C8%2C9%2C9%2C10%2C9%2C10%2C10%2C10%2C10%2C10%2C9%2C10%2C10%2C10%2C10%2C9%2C9%2C9%2C9%2C8%2C9%2C9%2C10%2C10%2C9%2C9%2C9%2C9%2C9%2C9%2C9%2C9%2C9%2C9%2C9%2C9%2C10%2C8%2C5%2C5%2C5%2C5%2C6%2C6%2C6%2C6%2C5%2C6%2C9%2C9%2C9%2C9%2C9%2C9%2C9%2C10%2C10%2C9%2C10%2C10%2C9%2C10%2C10%2C10%2C11%2C10%2C10%0AOther%2C0%2C0%2C0%2C0%2C0%2C0%2C0%2C0%2C0%2C0%2C0%2C0%2C0%2C0%2C0%2C0%2C0%2C0%2C0%2C0%2C0%2C0%2C0%2C0%2C0%2C0%2C0%2C0%2C0%2C0%2C0%2C0%2C0%2C0%2C0%2C0%2C0%2C0%2C0%2C0%2C0%2C0%2C0%2C0%2C0%2C0%2C0%2C0%2C0%2C0%2C0%2C0%2C0%2C0%2C0%2C0%2C0%2C0%2C0%2C0%2C0%2C0%2C0%2C0%2C0%2C0%2C0%2C0%2C0%2C0%2C0%2C0%2C0%2C0%2C0%2C0%2C0%2C0%2C0%2C0%2C0%2C0%2C0%2C0%2C0%2C0%2C0%2C0%2C0%2C0%2C0%2C0%2C0%2C0%2C0%2C0%2C0%2C0%2C0%2C0%2C0%2C0%2C0%2C0%2C0%2C0%2C0%2C0%2C0%2C0%2C0%2C0%2C0%2C0%2C0%2C0%2C0%2C0%2C0%2C0%2C0%2C0%2C0%2C0%2C0%2C0%2C0%2C0%2C0%2C0%2C0%2C0%2C0%2C0%2C0%2C0%2C0%2C0%2C0%2C0%2C0%0A')"
   ]
  },
  {
   "cell_type": "markdown",
   "id": "6188520c-f31a-4b60-bd39-12540bcb7760",
   "metadata": {},
   "source": [
    "It looks like the data is encoded into the URL. Googled ways to decode it. Looks like the `urllib` package is the way to go? "
   ]
  },
  {
   "cell_type": "code",
   "execution_count": 28,
   "id": "99c68014-6354-45ef-84f5-d0ceb4fbf2cb",
   "metadata": {},
   "outputs": [],
   "source": [
    "encodedStr = 'data:text/csv;charset=utf8,Supply%2007%2F05%2F2022%2C0%3A00%2C0%3A05%2C0%3A10%2C0%3A15%2C0%3A20%2C0%3A25%2C0%3A30%2C0%3A35%2C0%3A40%2C0%3A45%2C0%3A50%2C0%3A55%2C1%3A00%2C1%3A05%2C1%3A10%2C1%3A15%2C1%3A20%2C1%3A25%2C1%3A30%2C1%3A35%2C1%3A40%2C1%3A45%2C1%3A50%2C1%3A55%2C2%3A00%2C2%3A05%2C2%3A10%2C2%3A15%2C2%3A20%2C2%3A25%2C2%3A30%2C2%3A35%2C2%3A40%2C2%3A45%2C2%3A50%2C2%3A55%2C3%3A00%2C3%3A05%2C3%3A10%2C3%3A15%2C3%3A20%2C3%3A25%2C3%3A30%2C3%3A35%2C3%3A40%2C3%3A45%2C3%3A50%2C3%3A55%2C4%3A00%2C4%3A05%2C4%3A10%2C4%3A15%2C4%3A20%2C4%3A25%2C4%3A30%2C4%3A35%2C4%3A40%2C4%3A45%2C4%3A50%2C4%3A55%2C5%3A00%2C5%3A05%2C5%3A10%2C5%3A15%2C5%3A20%2C5%3A25%2C5%3A30%2C5%3A35%2C5%3A40%2C5%3A45%2C5%3A50%2C5%3A55%2C6%3A00%2C6%3A05%2C6%3A10%2C6%3A15%2C6%3A20%2C6%3A25%2C6%3A30%2C6%3A35%2C6%3A40%2C6%3A45%2C6%3A50%2C6%3A55%2C7%3A00%2C7%3A05%2C7%3A10%2C7%3A15%2C7%3A20%2C7%3A25%2C7%3A30%2C7%3A35%2C7%3A40%2C7%3A45%2C7%3A50%2C7%3A55%2C8%3A00%2C8%3A05%2C8%3A10%2C8%3A15%2C8%3A20%2C8%3A25%2C8%3A30%2C8%3A35%2C8%3A40%2C8%3A45%2C8%3A50%2C8%3A55%2C9%3A00%2C9%3A05%2C9%3A10%2C9%3A15%2C9%3A20%2C9%3A25%2C9%3A30%2C9%3A35%2C9%3A40%2C9%3A45%2C9%3A50%2C9%3A55%2C10%3A00%2C10%3A05%2C10%3A10%2C10%3A15%2C10%3A20%2C10%3A25%2C10%3A30%2C10%3A35%2C10%3A40%2C10%3A45%2C10%3A50%2C10%3A55%2C11%3A00%2C11%3A05%2C11%3A10%2C11%3A15%2C11%3A20%2C11%3A25%2C11%3A30%2C11%3A35%2C11%3A40%2C%0ARenewables%2C6177%2C6156%2C6151%2C6140%2C6120%2C6084%2C6053%2C5998%2C5974%2C5937%2C5893%2C5864%2C5815%2C5761%2C5742%2C5732%2C5697%2C5606%2C5546%2C5506%2C5478%2C5446%2C5436%2C5438%2C5459%2C5488%2C5502%2C5512%2C5532%2C5545%2C5549%2C5542%2C5558%2C5544%2C5519%2C5506%2C5511%2C5538%2C5566%2C5576%2C5593%2C5593%2C5606%2C5620%2C5649%2C5663%2C5690%2C5693%2C5699%2C5725%2C5710%2C5698%2C5680%2C5668%2C5655%2C5613%2C5572%2C5544%2C5528%2C5512%2C5502%2C5493%2C5478%2C5426%2C5410%2C5377%2C5335%2C5309%2C5297%2C5301%2C5294%2C5335%2C5417%2C5544%2C5742%2C5959%2C6200%2C6463%2C6803%2C7185%2C7687%2C8156%2C8573%2C9001%2C9530%2C10110%2C10632%2C11103%2C11562%2C12230%2C12756%2C13310%2C13712%2C14286%2C14720%2C14879%2C15070%2C15180%2C15488%2C15707%2C15929%2C16121%2C16309%2C16434%2C16571%2C16672%2C16822%2C16944%2C16946%2C17065%2C17228%2C17251%2C17255%2C17246%2C17223%2C17214%2C17299%2C17284%2C17331%2C17402%2C17558%2C17713%2C17802%2C17867%2C17863%2C17861%2C17839%2C17858%2C17882%2C17843%2C17807%2C17854%2C17843%2C17854%2C17854%2C17846%2C17823%2C17800%2C17877%2C18041%2C18039%2C%0ANatural%20gas%2C6375%2C6530%2C6314%2C6333%2C6429%2C6373%2C6362%2C6314%2C6272%2C6297%2C6231%2C6099%2C5991%2C5796%2C5669%2C5634%2C5546%2C5510%2C5483%2C5342%2C5286%2C5220%2C5237%2C5333%2C5321%2C5432%2C5421%2C5322%2C5280%2C5308%2C5334%2C5303%2C5202%2C5200%2C5168%2C5086%2C4944%2C5239%2C5565%2C5486%2C5461%2C5527%2C5536%2C5523%2C5518%2C5519%2C5517%2C5567%2C5492%2C5409%2C5523%2C5477%2C5488%2C5537%2C5548%2C5587%2C5582%2C5581%2C5606%2C5573%2C5580%2C5593%2C5444%2C5475%2C5520%2C5539%2C5536%2C5594%2C5651%2C5726%2C5754%2C5798%2C5952%2C6126%2C6056%2C6023%2C6050%2C5978%2C5974%2C6013%2C5970%2C5982%2C6104%2C5910%2C5676%2C5291%2C4916%2C4865%2C4929%2C4920%2C4950%2C5010%2C5107%2C5170%2C5241%2C5586%2C5629%2C5388%2C5086%2C5117%2C5366%2C5518%2C5570%2C5588%2C5516%2C5500%2C5406%2C5490%2C5470%2C5365%2C5603%2C5695%2C5627%2C5580%2C5588%2C5457%2C5453%2C5530%2C5496%2C5697%2C5764%2C5671%2C5596%2C5568%2C5548%2C5364%2C5186%2C5247%2C5255%2C5322%2C5276%2C5157%2C5179%2C5215%2C5364%2C5337%2C5235%2C5207%2C5120%2C5301%2C5195%0ALarge%20hydro%2C2030%2C2089%2C2167%2C2109%2C2106%2C2111%2C2105%2C2110%2C2113%2C2106%2C2121%2C2125%2C2121%2C2129%2C2121%2C2109%2C2095%2C2100%2C2098%2C2048%2C2066%2C1994%2C1936%2C1944%2C1943%2C1928%2C1910%2C1900%2C1897%2C1897%2C1893%2C1903%2C1900%2C1887%2C1846%2C1845%2C1831%2C1745%2C1705%2C1695%2C1696%2C1696%2C1701%2C1700%2C1695%2C1697%2C1698%2C1689%2C1690%2C1731%2C1750%2C1748%2C1738%2C1736%2C1732%2C1739%2C1741%2C1747%2C1742%2C1748%2C1817%2C2112%2C2236%2C2238%2C2236%2C2231%2C2233%2C2239%2C2231%2C2233%2C2232%2C2218%2C2238%2C2365%2C2474%2C2502%2C2507%2C2488%2C2476%2C2488%2C2493%2C2487%2C2499%2C2443%2C2276%2C1770%2C1463%2C1480%2C1516%2C1501%2C1465%2C1444%2C1445%2C1414%2C1409%2C1440%2C1415%2C1293%2C1219%2C1206%2C1204%2C1208%2C1209%2C1227%2C1235%2C1236%2C1235%2C1236%2C1236%2C1222%2C1211%2C1204%2C1195%2C1209%2C1212%2C1211%2C1211%2C1216%2C1219%2C1217%2C1209%2C1218%2C1221%2C1217%2C1204%2C1193%2C1192%2C1197%2C1201%2C1206%2C1203%2C1198%2C1212%2C1165%2C1113%2C1070%2C1068%2C1074%2C1075%2C1073%2C1075%0AImports%2C8935%2C8729%2C8646%2C8663%2C8640%2C8636%2C8624%2C8625%2C8633%2C8492%2C8464%2C8487%2C8506%2C8554%2C8679%2C8614%2C8643%2C8773%2C8684%2C8715%2C8697%2C8739%2C8755%2C8674%2C8621%2C8568%2C8552%2C8615%2C8687%2C8684%2C8614%2C8593%2C8538%2C8522%2C8526%2C8473%2C8435%2C8611%2C8598%2C8644%2C8637%2C8612%2C8559%2C8543%2C8494%2C8460%2C8468%2C8501%2C8478%2C8398%2C8256%2C8209%2C8305%2C8360%2C8404%2C8543%2C8696%2C8719%2C8701%2C8689%2C8630%2C8505%2C8574%2C8625%2C8684%2C8757%2C8840%2C8885%2C8966%2C8930%2C8978%2C8920%2C8465%2C7894%2C7518%2C7228%2C7068%2C6969%2C6960%2C6859%2C6629%2C6463%2C6259%2C6153%2C6043%2C6354%2C6321%2C6085%2C5814%2C5527%2C5365%2C5076%2C4773%2C4503%2C4287%2C4189%2C3820%2C4308%2C4322%2C4219%2C4279%2C4192%2C3964%2C3805%2C3601%2C3546%2C3364%2C3391%2C3294%2C3417%2C3443%2C3438%2C3381%2C3310%2C3216%2C3184%2C3145%2C3128%2C3114%2C3164%2C3106%2C3006%2C2923%2C2823%2C2642%2C2407%2C2339%2C2235%2C2348%2C2327%2C2292%2C2196%2C2263%2C2472%2C2375%2C2329%2C2297%2C2312%2C2491%2C2398%2C2243%0ABatteries%2C112%2C334%2C420%2C203%2C161%2C59%2C30%2C-41%2C-63%2C-47%2C-51%2C-40%2C-26%2C52%2C54%2C95%2C33%2C-12%2C32%2C72%2C76%2C43%2C35%2C25%2C-27%2C-53%2C-26%2C-83%2C-151%2C-204%2C-214%2C-217%2C-180%2C-192%2C-192%2C-98%2C-23%2C-347%2C-385%2C-371%2C-436%2C-449%2C-451%2C-451%2C-450%2C-451%2C-476%2C-493%2C-373%2C-329%2C-215%2C-149%2C-253%2C-270%2C-271%2C-353%2C-373%2C-362%2C-336%2C-255%2C-170%2C-161%2C-116%2C-83%2C-115%2C-98%2C-81%2C-77%2C-111%2C-155%2C-192%2C-143%2C150%2C513%2C716%2C792%2C733%2C597%2C390%2C205%2C152%2C-30%2C-176%2C-166%2C-132%2C39%2C356%2C191%2C149%2C-5%2C-159%2C-236%2C-373%2C-516%2C-667%2C-825%2C-781%2C-850%2C-695%2C-855%2C-1113%2C-1207%2C-1207%2C-1211%2C-1134%2C-1167%2C-1088%2C-1215%2C-1102%2C-1280%2C-1458%2C-1431%2C-1364%2C-1298%2C-1262%2C-1132%2C-1226%2C-1261%2C-1374%2C-1482%2C-1534%2C-1537%2C-1498%2C-1474%2C-1361%2C-1152%2C-1034%2C-1001%2C-1157%2C-1080%2C-994%2C-905%2C-972%2C-1106%2C-957%2C-887%2C-794%2C-704%2C-834%2C-868%2C-638%0ANuclear%2C2267%2C2267%2C2267%2C2267%2C2267%2C2268%2C2267%2C2267%2C2268%2C2268%2C2268%2C2268%2C2268%2C2268%2C2268%2C2268%2C2268%2C2268%2C2268%2C2268%2C2268%2C2268%2C2268%2C2268%2C2267%2C2267%2C2267%2C2267%2C2268%2C2268%2C2268%2C2269%2C2268%2C2270%2C2269%2C2269%2C2270%2C2269%2C2270%2C2270%2C2270%2C2270%2C2271%2C2271%2C2269%2C2270%2C2270%2C2270%2C2270%2C2270%2C2270%2C2270%2C2271%2C2269%2C2270%2C2270%2C2270%2C2269%2C2270%2C2270%2C2270%2C2270%2C2270%2C2269%2C2269%2C2270%2C2270%2C2270%2C2269%2C2270%2C2270%2C2271%2C2270%2C2270%2C2270%2C2270%2C2271%2C2270%2C2271%2C2270%2C2271%2C2270%2C2271%2C2271%2C2271%2C2271%2C2272%2C2271%2C2272%2C2271%2C2271%2C2271%2C2271%2C2271%2C2271%2C2270%2C2272%2C2270%2C2271%2C2271%2C2271%2C2271%2C2270%2C2271%2C2271%2C2271%2C2272%2C2270%2C2271%2C2271%2C2270%2C2271%2C2271%2C2272%2C2271%2C2272%2C2272%2C2271%2C2272%2C2272%2C2271%2C2272%2C2272%2C2272%2C2272%2C2272%2C2272%2C2272%2C2270%2C2272%2C2271%2C2271%2C2270%2C2270%2C2269%2C2269%2C2268%2C2269%2C2268%2C2269%2C2269%0ACoal%2C9%2C10%2C10%2C9%2C9%2C9%2C9%2C9%2C9%2C9%2C9%2C9%2C9%2C9%2C9%2C9%2C9%2C9%2C8%2C8%2C9%2C8%2C9%2C9%2C9%2C9%2C10%2C9%2C9%2C9%2C9%2C11%2C11%2C10%2C10%2C10%2C10%2C10%2C10%2C10%2C10%2C10%2C10%2C10%2C9%2C9%2C10%2C9%2C9%2C10%2C9%2C10%2C9%2C9%2C9%2C10%2C10%2C10%2C10%2C9%2C9%2C10%2C10%2C10%2C10%2C9%2C9%2C9%2C9%2C9%2C9%2C9%2C8%2C8%2C8%2C9%2C9%2C10%2C9%2C10%2C10%2C10%2C10%2C10%2C9%2C10%2C10%2C10%2C10%2C9%2C9%2C9%2C9%2C8%2C9%2C9%2C10%2C10%2C9%2C9%2C9%2C9%2C9%2C9%2C9%2C9%2C9%2C9%2C9%2C9%2C10%2C8%2C5%2C5%2C5%2C5%2C6%2C6%2C6%2C6%2C5%2C6%2C9%2C9%2C9%2C9%2C9%2C9%2C9%2C10%2C10%2C9%2C10%2C10%2C9%2C10%2C10%2C10%2C11%2C10%2C10%0AOther%2C0%2C0%2C0%2C0%2C0%2C0%2C0%2C0%2C0%2C0%2C0%2C0%2C0%2C0%2C0%2C0%2C0%2C0%2C0%2C0%2C0%2C0%2C0%2C0%2C0%2C0%2C0%2C0%2C0%2C0%2C0%2C0%2C0%2C0%2C0%2C0%2C0%2C0%2C0%2C0%2C0%2C0%2C0%2C0%2C0%2C0%2C0%2C0%2C0%2C0%2C0%2C0%2C0%2C0%2C0%2C0%2C0%2C0%2C0%2C0%2C0%2C0%2C0%2C0%2C0%2C0%2C0%2C0%2C0%2C0%2C0%2C0%2C0%2C0%2C0%2C0%2C0%2C0%2C0%2C0%2C0%2C0%2C0%2C0%2C0%2C0%2C0%2C0%2C0%2C0%2C0%2C0%2C0%2C0%2C0%2C0%2C0%2C0%2C0%2C0%2C0%2C0%2C0%2C0%2C0%2C0%2C0%2C0%2C0%2C0%2C0%2C0%2C0%2C0%2C0%2C0%2C0%2C0%2C0%2C0%2C0%2C0%2C0%2C0%2C0%2C0%2C0%2C0%2C0%2C0%2C0%2C0%2C0%2C0%2C0%2C0%2C0%2C0%2C0%2C0%2C0%0A'"
   ]
  },
  {
   "cell_type": "code",
   "execution_count": 29,
   "id": "cbe5e3e2-1d2a-4dd9-9709-8779ee3023c3",
   "metadata": {},
   "outputs": [],
   "source": [
    "decodedStr = urllib.parse.unquote(encodedStr)"
   ]
  },
  {
   "cell_type": "markdown",
   "id": "e2332ddf-4c9c-4d42-beb2-dd0a3581540e",
   "metadata": {},
   "source": [
    "decodedStr"
   ]
  },
  {
   "cell_type": "code",
   "execution_count": 38,
   "id": "2d26ed7c-db52-4c2e-98d1-bf8556dfffac",
   "metadata": {},
   "outputs": [],
   "source": [
    "#remove header, and see if can read into pandas dataframe.\n",
    "data = decodedStr.replace('data:text/csv;charset=utf8,', '')\n",
    "# use StringIO\n",
    "#https://stackoverflow.com/questions/22604564/create-pandas-dataframe-from-a-string\n",
    "# Also what is StringIO used for?: https://stackoverflow.com/questions/7996479/what-is-stringio-in-python-used-for-in-reality \n",
    "data_io = StringIO(data)\n",
    "df = pd.read_csv(data_io, sep = \",\")"
   ]
  },
  {
   "cell_type": "code",
   "execution_count": 40,
   "id": "404bf4f5-4eb0-40ac-a552-4e8dc44c8a42",
   "metadata": {},
   "outputs": [
    {
     "data": {
      "text/html": [
       "<div>\n",
       "<style scoped>\n",
       "    .dataframe tbody tr th:only-of-type {\n",
       "        vertical-align: middle;\n",
       "    }\n",
       "\n",
       "    .dataframe tbody tr th {\n",
       "        vertical-align: top;\n",
       "    }\n",
       "\n",
       "    .dataframe thead th {\n",
       "        text-align: right;\n",
       "    }\n",
       "</style>\n",
       "<table border=\"1\" class=\"dataframe\">\n",
       "  <thead>\n",
       "    <tr style=\"text-align: right;\">\n",
       "      <th></th>\n",
       "      <th>Supply 07/05/2022</th>\n",
       "      <th>0:00</th>\n",
       "      <th>0:05</th>\n",
       "      <th>0:10</th>\n",
       "      <th>0:15</th>\n",
       "      <th>0:20</th>\n",
       "      <th>0:25</th>\n",
       "      <th>0:30</th>\n",
       "      <th>0:35</th>\n",
       "      <th>0:40</th>\n",
       "      <th>...</th>\n",
       "      <th>11:00</th>\n",
       "      <th>11:05</th>\n",
       "      <th>11:10</th>\n",
       "      <th>11:15</th>\n",
       "      <th>11:20</th>\n",
       "      <th>11:25</th>\n",
       "      <th>11:30</th>\n",
       "      <th>11:35</th>\n",
       "      <th>11:40</th>\n",
       "      <th>Unnamed: 142</th>\n",
       "    </tr>\n",
       "  </thead>\n",
       "  <tbody>\n",
       "    <tr>\n",
       "      <th>0</th>\n",
       "      <td>Renewables</td>\n",
       "      <td>6177</td>\n",
       "      <td>6156</td>\n",
       "      <td>6151</td>\n",
       "      <td>6140</td>\n",
       "      <td>6120</td>\n",
       "      <td>6084</td>\n",
       "      <td>6053</td>\n",
       "      <td>5998</td>\n",
       "      <td>5974</td>\n",
       "      <td>...</td>\n",
       "      <td>17843</td>\n",
       "      <td>17854</td>\n",
       "      <td>17854</td>\n",
       "      <td>17846</td>\n",
       "      <td>17823</td>\n",
       "      <td>17800</td>\n",
       "      <td>17877</td>\n",
       "      <td>18041</td>\n",
       "      <td>18039</td>\n",
       "      <td>NaN</td>\n",
       "    </tr>\n",
       "    <tr>\n",
       "      <th>1</th>\n",
       "      <td>Natural gas</td>\n",
       "      <td>6375</td>\n",
       "      <td>6530</td>\n",
       "      <td>6314</td>\n",
       "      <td>6333</td>\n",
       "      <td>6429</td>\n",
       "      <td>6373</td>\n",
       "      <td>6362</td>\n",
       "      <td>6314</td>\n",
       "      <td>6272</td>\n",
       "      <td>...</td>\n",
       "      <td>5179</td>\n",
       "      <td>5215</td>\n",
       "      <td>5364</td>\n",
       "      <td>5337</td>\n",
       "      <td>5235</td>\n",
       "      <td>5207</td>\n",
       "      <td>5120</td>\n",
       "      <td>5301</td>\n",
       "      <td>5195</td>\n",
       "      <td>NaN</td>\n",
       "    </tr>\n",
       "    <tr>\n",
       "      <th>2</th>\n",
       "      <td>Large hydro</td>\n",
       "      <td>2030</td>\n",
       "      <td>2089</td>\n",
       "      <td>2167</td>\n",
       "      <td>2109</td>\n",
       "      <td>2106</td>\n",
       "      <td>2111</td>\n",
       "      <td>2105</td>\n",
       "      <td>2110</td>\n",
       "      <td>2113</td>\n",
       "      <td>...</td>\n",
       "      <td>1212</td>\n",
       "      <td>1165</td>\n",
       "      <td>1113</td>\n",
       "      <td>1070</td>\n",
       "      <td>1068</td>\n",
       "      <td>1074</td>\n",
       "      <td>1075</td>\n",
       "      <td>1073</td>\n",
       "      <td>1075</td>\n",
       "      <td>NaN</td>\n",
       "    </tr>\n",
       "    <tr>\n",
       "      <th>3</th>\n",
       "      <td>Imports</td>\n",
       "      <td>8935</td>\n",
       "      <td>8729</td>\n",
       "      <td>8646</td>\n",
       "      <td>8663</td>\n",
       "      <td>8640</td>\n",
       "      <td>8636</td>\n",
       "      <td>8624</td>\n",
       "      <td>8625</td>\n",
       "      <td>8633</td>\n",
       "      <td>...</td>\n",
       "      <td>2263</td>\n",
       "      <td>2472</td>\n",
       "      <td>2375</td>\n",
       "      <td>2329</td>\n",
       "      <td>2297</td>\n",
       "      <td>2312</td>\n",
       "      <td>2491</td>\n",
       "      <td>2398</td>\n",
       "      <td>2243</td>\n",
       "      <td>NaN</td>\n",
       "    </tr>\n",
       "    <tr>\n",
       "      <th>4</th>\n",
       "      <td>Batteries</td>\n",
       "      <td>112</td>\n",
       "      <td>334</td>\n",
       "      <td>420</td>\n",
       "      <td>203</td>\n",
       "      <td>161</td>\n",
       "      <td>59</td>\n",
       "      <td>30</td>\n",
       "      <td>-41</td>\n",
       "      <td>-63</td>\n",
       "      <td>...</td>\n",
       "      <td>-972</td>\n",
       "      <td>-1106</td>\n",
       "      <td>-957</td>\n",
       "      <td>-887</td>\n",
       "      <td>-794</td>\n",
       "      <td>-704</td>\n",
       "      <td>-834</td>\n",
       "      <td>-868</td>\n",
       "      <td>-638</td>\n",
       "      <td>NaN</td>\n",
       "    </tr>\n",
       "    <tr>\n",
       "      <th>5</th>\n",
       "      <td>Nuclear</td>\n",
       "      <td>2267</td>\n",
       "      <td>2267</td>\n",
       "      <td>2267</td>\n",
       "      <td>2267</td>\n",
       "      <td>2267</td>\n",
       "      <td>2268</td>\n",
       "      <td>2267</td>\n",
       "      <td>2267</td>\n",
       "      <td>2268</td>\n",
       "      <td>...</td>\n",
       "      <td>2270</td>\n",
       "      <td>2270</td>\n",
       "      <td>2269</td>\n",
       "      <td>2269</td>\n",
       "      <td>2268</td>\n",
       "      <td>2269</td>\n",
       "      <td>2268</td>\n",
       "      <td>2269</td>\n",
       "      <td>2269</td>\n",
       "      <td>NaN</td>\n",
       "    </tr>\n",
       "    <tr>\n",
       "      <th>6</th>\n",
       "      <td>Coal</td>\n",
       "      <td>9</td>\n",
       "      <td>10</td>\n",
       "      <td>10</td>\n",
       "      <td>9</td>\n",
       "      <td>9</td>\n",
       "      <td>9</td>\n",
       "      <td>9</td>\n",
       "      <td>9</td>\n",
       "      <td>9</td>\n",
       "      <td>...</td>\n",
       "      <td>10</td>\n",
       "      <td>10</td>\n",
       "      <td>9</td>\n",
       "      <td>10</td>\n",
       "      <td>10</td>\n",
       "      <td>10</td>\n",
       "      <td>11</td>\n",
       "      <td>10</td>\n",
       "      <td>10</td>\n",
       "      <td>NaN</td>\n",
       "    </tr>\n",
       "    <tr>\n",
       "      <th>7</th>\n",
       "      <td>Other</td>\n",
       "      <td>0</td>\n",
       "      <td>0</td>\n",
       "      <td>0</td>\n",
       "      <td>0</td>\n",
       "      <td>0</td>\n",
       "      <td>0</td>\n",
       "      <td>0</td>\n",
       "      <td>0</td>\n",
       "      <td>0</td>\n",
       "      <td>...</td>\n",
       "      <td>0</td>\n",
       "      <td>0</td>\n",
       "      <td>0</td>\n",
       "      <td>0</td>\n",
       "      <td>0</td>\n",
       "      <td>0</td>\n",
       "      <td>0</td>\n",
       "      <td>0</td>\n",
       "      <td>0</td>\n",
       "      <td>NaN</td>\n",
       "    </tr>\n",
       "  </tbody>\n",
       "</table>\n",
       "<p>8 rows × 143 columns</p>\n",
       "</div>"
      ],
      "text/plain": [
       "  Supply 07/05/2022  0:00  0:05  0:10  0:15  0:20  0:25  0:30  0:35  0:40  \\\n",
       "0        Renewables  6177  6156  6151  6140  6120  6084  6053  5998  5974   \n",
       "1       Natural gas  6375  6530  6314  6333  6429  6373  6362  6314  6272   \n",
       "2       Large hydro  2030  2089  2167  2109  2106  2111  2105  2110  2113   \n",
       "3           Imports  8935  8729  8646  8663  8640  8636  8624  8625  8633   \n",
       "4         Batteries   112   334   420   203   161    59    30   -41   -63   \n",
       "5           Nuclear  2267  2267  2267  2267  2267  2268  2267  2267  2268   \n",
       "6              Coal     9    10    10     9     9     9     9     9     9   \n",
       "7             Other     0     0     0     0     0     0     0     0     0   \n",
       "\n",
       "   ...  11:00  11:05  11:10  11:15  11:20  11:25  11:30  11:35  11:40  \\\n",
       "0  ...  17843  17854  17854  17846  17823  17800  17877  18041  18039   \n",
       "1  ...   5179   5215   5364   5337   5235   5207   5120   5301   5195   \n",
       "2  ...   1212   1165   1113   1070   1068   1074   1075   1073   1075   \n",
       "3  ...   2263   2472   2375   2329   2297   2312   2491   2398   2243   \n",
       "4  ...   -972  -1106   -957   -887   -794   -704   -834   -868   -638   \n",
       "5  ...   2270   2270   2269   2269   2268   2269   2268   2269   2269   \n",
       "6  ...     10     10      9     10     10     10     11     10     10   \n",
       "7  ...      0      0      0      0      0      0      0      0      0   \n",
       "\n",
       "   Unnamed: 142  \n",
       "0           NaN  \n",
       "1           NaN  \n",
       "2           NaN  \n",
       "3           NaN  \n",
       "4           NaN  \n",
       "5           NaN  \n",
       "6           NaN  \n",
       "7           NaN  \n",
       "\n",
       "[8 rows x 143 columns]"
      ]
     },
     "execution_count": 40,
     "metadata": {},
     "output_type": "execute_result"
    }
   ],
   "source": [
    "df"
   ]
  },
  {
   "cell_type": "markdown",
   "id": "9d699836-c880-4437-be31-a8d5439cd7c4",
   "metadata": {},
   "source": [
    "Ok this works! Now we need to write the code to retrieve the URL. "
   ]
  },
  {
   "cell_type": "markdown",
   "id": "8effbefc-6c76-4038-912f-d1ba1bea23c6",
   "metadata": {},
   "source": [
    "### Retreive URL from website - This ended up not working so well"
   ]
  },
  {
   "cell_type": "code",
   "execution_count": 2,
   "id": "bb21add9-c758-4dbb-8b03-5d0faf898107",
   "metadata": {},
   "outputs": [],
   "source": [
    "import requests\n",
    "from bs4 import BeautifulSoup\n",
    "from selenium import webdriver\n",
    "from selenium.webdriver.common.by import By"
   ]
  },
  {
   "cell_type": "code",
   "execution_count": 88,
   "id": "2285dd64-7646-4f94-a9d4-627761de5ea6",
   "metadata": {},
   "outputs": [],
   "source": [
    "caiso_url = 'https://www.caiso.com/TodaysOutlook/Pages/supply.html#section-supply-trend'\n",
    "headers = {'User-Agent': 'Mozilla/5.0 (Macintosh; Intel Mac OS X 10_15_7) AppleWebKit/537.36 (KHTML, like Gecko) Chrome/102.0.0.0 Safari/537.36'}\n",
    "page = requests.get(caiso_url, headers = headers)"
   ]
  },
  {
   "cell_type": "code",
   "execution_count": 89,
   "id": "004c828e-e84b-463a-8e2f-530f9ca8871f",
   "metadata": {},
   "outputs": [],
   "source": [
    "soup = BeautifulSoup(page.content, \"html.parser\")"
   ]
  },
  {
   "cell_type": "code",
   "execution_count": 90,
   "id": "5febf419-e82f-424f-aeaa-f4adf781dd27",
   "metadata": {},
   "outputs": [],
   "source": [
    "dropdown_items = soup.find_all(\"a\", class_ = \"dropdown-item\")"
   ]
  },
  {
   "cell_type": "code",
   "execution_count": 91,
   "id": "cff1eed4-723c-4768-b6ec-1842b367ccf3",
   "metadata": {},
   "outputs": [
    {
     "data": {
      "text/plain": [
       "[<a class=\"dropdown-item\" data-type=\"text/csv\" id=\"downloadSupplyCSV\">Chart data (CSV)</a>,\n",
       " <a class=\"dropdown-item mb-0\" data-type=\"text/csv\" id=\"downloadRenewablesCSV\">Chart data (CSV)</a>,\n",
       " <a class=\"dropdown-item disabled\" data-type=\"text/csv\" id=\"downloadRenewableProductionCSV\">Peaks and daily production (CSV)</a>,\n",
       " <a class=\"dropdown-item\" data-type=\"text/csv\" id=\"downloadBatteriesCSV\">CSV</a>,\n",
       " <a class=\"dropdown-item\" data-type=\"text/csv\" id=\"downloadImportsCSV\">CSV</a>]"
      ]
     },
     "execution_count": 91,
     "metadata": {},
     "output_type": "execute_result"
    }
   ],
   "source": [
    "dropdown_items"
   ]
  },
  {
   "cell_type": "markdown",
   "id": "4c2cdcb9-ec26-4521-b6bb-ab3c5a2678b7",
   "metadata": {},
   "source": [
    "I am missing all the links even though I see it when I inspect the page... \n",
    "It seems like this is because the data is generated through JavaScript, and since the JavaScript is not called yet I cannot access the links. Try using Selenium. "
   ]
  },
  {
   "cell_type": "markdown",
   "id": "6646723f-8730-4526-87bd-13cc8c11d2f2",
   "metadata": {},
   "source": [
    "- Had to install [Chromedriver](https://chromedriver.chromium.org/downloads). Make sure to download the correct version! \n",
    "- Lift Mac quarantine from help [here](https://timonweb.com/misc/fixing-error-chromedriver-cannot-be-opened-because-the-developer-cannot-be-verified-unable-to-launch-the-chrome-browser-on-mac-os/)"
   ]
  },
  {
   "cell_type": "code",
   "execution_count": 119,
   "id": "b4b5621f-624e-47dd-9d09-1b3bc9b39d99",
   "metadata": {},
   "outputs": [],
   "source": [
    "browser = webdriver.Chrome()\n",
    "browser.get(caiso_url)\n",
    "#find_element_by_xpath method is deprecated: https://devsolus.com/2022/06/25/attributeerror-webdriver-object-has-no-attribute-find_element_by_xpath/ \n",
    "#results = browser.find_element(By.XPATH, \"//*[@class='dropdown-item']\")"
   ]
  },
  {
   "cell_type": "code",
   "execution_count": 118,
   "id": "8d7ec12a-481f-4d47-8922-9de203180774",
   "metadata": {},
   "outputs": [],
   "source": [
    "#href also doesn't show here\n",
    "results2.get_attribute('href')"
   ]
  },
  {
   "cell_type": "code",
   "execution_count": 121,
   "id": "857534fe-0b41-48b0-948f-16da5eaf39b7",
   "metadata": {},
   "outputs": [
    {
     "ename": "ElementNotInteractableException",
     "evalue": "Message: element not interactable\n  (Session info: chrome=103.0.5060.114)\nStacktrace:\n0   chromedriver                        0x000000010b5fb079 chromedriver + 4444281\n1   chromedriver                        0x000000010b587403 chromedriver + 3970051\n2   chromedriver                        0x000000010b221eef chromedriver + 409327\n3   chromedriver                        0x000000010b259477 chromedriver + 636023\n4   chromedriver                        0x000000010b24d6a9 chromedriver + 587433\n5   chromedriver                        0x000000010b275792 chromedriver + 751506\n6   chromedriver                        0x000000010b24cf65 chromedriver + 585573\n7   chromedriver                        0x000000010b27589e chromedriver + 751774\n8   chromedriver                        0x000000010b288221 chromedriver + 827937\n9   chromedriver                        0x000000010b275683 chromedriver + 751235\n10  chromedriver                        0x000000010b24ba45 chromedriver + 580165\n11  chromedriver                        0x000000010b24ca95 chromedriver + 584341\n12  chromedriver                        0x000000010b5cc55d chromedriver + 4253021\n13  chromedriver                        0x000000010b5d13a1 chromedriver + 4273057\n14  chromedriver                        0x000000010b5d616f chromedriver + 4292975\n15  chromedriver                        0x000000010b5d1dea chromedriver + 4275690\n16  chromedriver                        0x000000010b5ab54f chromedriver + 4117839\n17  chromedriver                        0x000000010b5ebed8 chromedriver + 4382424\n18  chromedriver                        0x000000010b5ec05f chromedriver + 4382815\n19  chromedriver                        0x000000010b6028d5 chromedriver + 4475093\n20  libsystem_pthread.dylib             0x00007fff204d68fc _pthread_start + 224\n21  libsystem_pthread.dylib             0x00007fff204d2443 thread_start + 15\n",
     "output_type": "error",
     "traceback": [
      "\u001b[0;31m---------------------------------------------------------------------------\u001b[0m",
      "\u001b[0;31mElementNotInteractableException\u001b[0m           Traceback (most recent call last)",
      "Input \u001b[0;32mIn [121]\u001b[0m, in \u001b[0;36m<cell line: 2>\u001b[0;34m()\u001b[0m\n\u001b[1;32m      1\u001b[0m browser\u001b[38;5;241m.\u001b[39mfind_element(By\u001b[38;5;241m.\u001b[39mID, \u001b[38;5;124m'\u001b[39m\u001b[38;5;124mdropdownMenuSupplyDownload\u001b[39m\u001b[38;5;124m'\u001b[39m)\u001b[38;5;241m.\u001b[39mclick()\n\u001b[0;32m----> 2\u001b[0m \u001b[43mbrowser\u001b[49m\u001b[38;5;241;43m.\u001b[39;49m\u001b[43mfind_element\u001b[49m\u001b[43m(\u001b[49m\u001b[43mBy\u001b[49m\u001b[38;5;241;43m.\u001b[39;49m\u001b[43mID\u001b[49m\u001b[43m,\u001b[49m\u001b[43m \u001b[49m\u001b[38;5;124;43m'\u001b[39;49m\u001b[38;5;124;43mdownloadSupplyCSV\u001b[39;49m\u001b[38;5;124;43m'\u001b[39;49m\u001b[43m)\u001b[49m\u001b[38;5;241;43m.\u001b[39;49m\u001b[43mclick\u001b[49m\u001b[43m(\u001b[49m\u001b[43m)\u001b[49m\n",
      "File \u001b[0;32m~/opt/anaconda3/envs/myenv0/lib/python3.9/site-packages/selenium/webdriver/remote/webelement.py:88\u001b[0m, in \u001b[0;36mWebElement.click\u001b[0;34m(self)\u001b[0m\n\u001b[1;32m     86\u001b[0m \u001b[38;5;28;01mdef\u001b[39;00m \u001b[38;5;21mclick\u001b[39m(\u001b[38;5;28mself\u001b[39m) \u001b[38;5;241m-\u001b[39m\u001b[38;5;241m>\u001b[39m \u001b[38;5;28;01mNone\u001b[39;00m:\n\u001b[1;32m     87\u001b[0m     \u001b[38;5;124;03m\"\"\"Clicks the element.\"\"\"\u001b[39;00m\n\u001b[0;32m---> 88\u001b[0m     \u001b[38;5;28;43mself\u001b[39;49m\u001b[38;5;241;43m.\u001b[39;49m\u001b[43m_execute\u001b[49m\u001b[43m(\u001b[49m\u001b[43mCommand\u001b[49m\u001b[38;5;241;43m.\u001b[39;49m\u001b[43mCLICK_ELEMENT\u001b[49m\u001b[43m)\u001b[49m\n",
      "File \u001b[0;32m~/opt/anaconda3/envs/myenv0/lib/python3.9/site-packages/selenium/webdriver/remote/webelement.py:396\u001b[0m, in \u001b[0;36mWebElement._execute\u001b[0;34m(self, command, params)\u001b[0m\n\u001b[1;32m    394\u001b[0m     params \u001b[38;5;241m=\u001b[39m {}\n\u001b[1;32m    395\u001b[0m params[\u001b[38;5;124m'\u001b[39m\u001b[38;5;124mid\u001b[39m\u001b[38;5;124m'\u001b[39m] \u001b[38;5;241m=\u001b[39m \u001b[38;5;28mself\u001b[39m\u001b[38;5;241m.\u001b[39m_id\n\u001b[0;32m--> 396\u001b[0m \u001b[38;5;28;01mreturn\u001b[39;00m \u001b[38;5;28;43mself\u001b[39;49m\u001b[38;5;241;43m.\u001b[39;49m\u001b[43m_parent\u001b[49m\u001b[38;5;241;43m.\u001b[39;49m\u001b[43mexecute\u001b[49m\u001b[43m(\u001b[49m\u001b[43mcommand\u001b[49m\u001b[43m,\u001b[49m\u001b[43m \u001b[49m\u001b[43mparams\u001b[49m\u001b[43m)\u001b[49m\n",
      "File \u001b[0;32m~/opt/anaconda3/envs/myenv0/lib/python3.9/site-packages/selenium/webdriver/remote/webdriver.py:435\u001b[0m, in \u001b[0;36mWebDriver.execute\u001b[0;34m(self, driver_command, params)\u001b[0m\n\u001b[1;32m    433\u001b[0m response \u001b[38;5;241m=\u001b[39m \u001b[38;5;28mself\u001b[39m\u001b[38;5;241m.\u001b[39mcommand_executor\u001b[38;5;241m.\u001b[39mexecute(driver_command, params)\n\u001b[1;32m    434\u001b[0m \u001b[38;5;28;01mif\u001b[39;00m response:\n\u001b[0;32m--> 435\u001b[0m     \u001b[38;5;28;43mself\u001b[39;49m\u001b[38;5;241;43m.\u001b[39;49m\u001b[43merror_handler\u001b[49m\u001b[38;5;241;43m.\u001b[39;49m\u001b[43mcheck_response\u001b[49m\u001b[43m(\u001b[49m\u001b[43mresponse\u001b[49m\u001b[43m)\u001b[49m\n\u001b[1;32m    436\u001b[0m     response[\u001b[38;5;124m'\u001b[39m\u001b[38;5;124mvalue\u001b[39m\u001b[38;5;124m'\u001b[39m] \u001b[38;5;241m=\u001b[39m \u001b[38;5;28mself\u001b[39m\u001b[38;5;241m.\u001b[39m_unwrap_value(\n\u001b[1;32m    437\u001b[0m         response\u001b[38;5;241m.\u001b[39mget(\u001b[38;5;124m'\u001b[39m\u001b[38;5;124mvalue\u001b[39m\u001b[38;5;124m'\u001b[39m, \u001b[38;5;28;01mNone\u001b[39;00m))\n\u001b[1;32m    438\u001b[0m     \u001b[38;5;28;01mreturn\u001b[39;00m response\n",
      "File \u001b[0;32m~/opt/anaconda3/envs/myenv0/lib/python3.9/site-packages/selenium/webdriver/remote/errorhandler.py:247\u001b[0m, in \u001b[0;36mErrorHandler.check_response\u001b[0;34m(self, response)\u001b[0m\n\u001b[1;32m    245\u001b[0m         alert_text \u001b[38;5;241m=\u001b[39m value[\u001b[38;5;124m'\u001b[39m\u001b[38;5;124malert\u001b[39m\u001b[38;5;124m'\u001b[39m]\u001b[38;5;241m.\u001b[39mget(\u001b[38;5;124m'\u001b[39m\u001b[38;5;124mtext\u001b[39m\u001b[38;5;124m'\u001b[39m)\n\u001b[1;32m    246\u001b[0m     \u001b[38;5;28;01mraise\u001b[39;00m exception_class(message, screen, stacktrace, alert_text)  \u001b[38;5;66;03m# type: ignore[call-arg]  # mypy is not smart enough here\u001b[39;00m\n\u001b[0;32m--> 247\u001b[0m \u001b[38;5;28;01mraise\u001b[39;00m exception_class(message, screen, stacktrace)\n",
      "\u001b[0;31mElementNotInteractableException\u001b[0m: Message: element not interactable\n  (Session info: chrome=103.0.5060.114)\nStacktrace:\n0   chromedriver                        0x000000010b5fb079 chromedriver + 4444281\n1   chromedriver                        0x000000010b587403 chromedriver + 3970051\n2   chromedriver                        0x000000010b221eef chromedriver + 409327\n3   chromedriver                        0x000000010b259477 chromedriver + 636023\n4   chromedriver                        0x000000010b24d6a9 chromedriver + 587433\n5   chromedriver                        0x000000010b275792 chromedriver + 751506\n6   chromedriver                        0x000000010b24cf65 chromedriver + 585573\n7   chromedriver                        0x000000010b27589e chromedriver + 751774\n8   chromedriver                        0x000000010b288221 chromedriver + 827937\n9   chromedriver                        0x000000010b275683 chromedriver + 751235\n10  chromedriver                        0x000000010b24ba45 chromedriver + 580165\n11  chromedriver                        0x000000010b24ca95 chromedriver + 584341\n12  chromedriver                        0x000000010b5cc55d chromedriver + 4253021\n13  chromedriver                        0x000000010b5d13a1 chromedriver + 4273057\n14  chromedriver                        0x000000010b5d616f chromedriver + 4292975\n15  chromedriver                        0x000000010b5d1dea chromedriver + 4275690\n16  chromedriver                        0x000000010b5ab54f chromedriver + 4117839\n17  chromedriver                        0x000000010b5ebed8 chromedriver + 4382424\n18  chromedriver                        0x000000010b5ec05f chromedriver + 4382815\n19  chromedriver                        0x000000010b6028d5 chromedriver + 4475093\n20  libsystem_pthread.dylib             0x00007fff204d68fc _pthread_start + 224\n21  libsystem_pthread.dylib             0x00007fff204d2443 thread_start + 15\n"
     ]
    }
   ],
   "source": [
    "#try clicking on the buttons? \n",
    "browser.find_element(By.ID, 'dropdownMenuSupplyDownload').click()\n",
    "# erroring - how to click on drowdown? \n",
    "#browser.find_element(By.ID, 'downloadSupplyCSV').click()"
   ]
  },
  {
   "cell_type": "markdown",
   "id": "9c21afa1-65b9-4278-981a-0aa351524a82",
   "metadata": {},
   "source": [
    "### Method 2 - Get jquery from website"
   ]
  },
  {
   "cell_type": "code",
   "execution_count": 82,
   "id": "c6dcdeb6-a446-47d4-8867-613466573ab3",
   "metadata": {},
   "outputs": [],
   "source": [
    "from datetime import date\n",
    "import matplotlib.pyplot as plt\n",
    "import matplotlib.dates as mdates"
   ]
  },
  {
   "cell_type": "code",
   "execution_count": 63,
   "id": "150d1f71-5411-470a-9a94-aadac34a6841",
   "metadata": {},
   "outputs": [],
   "source": [
    "url = 'https://www.caiso.com/outlook/SP/fuelsource.csv'\n",
    "r = requests.get(url)"
   ]
  },
  {
   "cell_type": "code",
   "execution_count": 64,
   "id": "67497021-f4b7-4ae2-afe2-909d85beba13",
   "metadata": {},
   "outputs": [
    {
     "data": {
      "text/plain": [
       "'Time,Solar,Wind,Geothermal,Biomass,Biogas,Small hydro,Coal,Nuclear,Natural Gas,Large Hydro,Batteries,Imports,Other\\r\\n00:00,-42,3643,931,345,217,238,11,2267,8103,2360,-40,9590,0\\r\\n00:05,-42,3655,930,345,218,239,11,2266,8213,2350,241,9269,0\\r\\n00:10,-42,3710,929,345,218,235,11,2266,7999,2273,330,9109,0\\r\\n00:15,-44,3746,932,345,217,230,11,2266,8046,2246,233,9086,0\\r\\n00:20,-43,3778,931,344,218,230,11,2267,7970,2198,94,9197,0\\r\\n00:25,-42,3806,932,343,215,230,11,2265,7851,2194,72,9161,0\\r\\n00:30,-42,3832,932,341,214,231,12,2266,7841,2262,-23,9153,0\\r\\n00:35,-42,3873,931,339,214,231,11,2265,7740,2135,-34,9185,0\\r\\n00:40,-42,3891,931,339,211,232,11,2265,7712,2085,-42,9200,0\\r\\n00:45,-42,3882,932,338,211,232,11,2265,7696,2078,-100,9271,0\\r\\n00:50,-42,3866,933,339,210,231,11,2266,7618,2076,-99,9260,0\\r\\n00:55,-42,3840,932,338,209,231,11,2266,7546,2075,-114,9281,0\\r\\n01:00,-42,3849,932,337,209,231,11,2265,7475,2047,-60,9236,0\\r\\n01:05,-42,3857,932,338,209,231,11,2264,7307,1995,-57,9369,0\\r\\n01:10,-43,3849,933,338,209,232,12,2264,7189,1970,-57,9331,0\\r\\n01:15,-42,3801,933,337,210,231,12,2265,7160,1963,-107,9245,0\\r\\n01:20,-42,3746,934,338,210,231,11,2266,7142,1962,-109,9243,0\\r\\n01:25,-42,3756,934,336,209,231,11,2265,7149,1957,-151,9187,0\\r\\n01:30,-42,3810,934,338,209,230,11,2266,7272,1943,-133,8947,0\\r\\n01:35,-42,3826,934,338,210,230,11,2266,7205,1952,-253,8950,0\\r\\n01:40,-42,3827,933,338,210,231,11,2266,7218,1959,-263,8935,0\\r\\n01:45,-42,3817,934,340,210,231,11,2265,7149,1971,-250,8864,0\\r\\n01:50,-43,3811,934,339,212,231,12,2266,6967,1980,-154,8845,0\\r\\n01:55,-42,3809,934,340,214,232,12,2266,6690,1983,131,8599,0\\r\\n02:00,-43,3794,935,338,214,233,10,2266,6482,1982,172,8544,0\\r\\n02:05,-42,3767,935,339,214,233,10,2266,6681,2042,-23,8565,0\\r\\n02:10,-42,3732,935,338,213,232,10,2267,6653,2059,79,8502,0\\r\\n02:15,-43,3722,935,340,211,231,9,2266,6604,2062,11,8493,0\\r\\n02:20,-42,3708,936,338,211,230,10,2265,6633,1997,-152,8674,0\\r\\n02:25,-42,3702,936,337,212,231,9,2267,6747,1969,-187,8655,0\\r\\n02:30,-42,3672,935,337,214,230,9,2266,6748,1961,-178,8626,0\\r\\n02:35,-42,3630,935,337,212,230,10,2267,6702,1966,-230,8687,0\\r\\n02:40,-42,3598,936,337,211,229,9,2267,6723,1953,-223,8633,0\\r\\n02:45,-42,3572,936,338,212,229,9,2267,6716,1965,-268,8644,0\\r\\n02:50,-42,3561,935,340,211,228,9,2267,6680,1965,-264,8651,0\\r\\n02:55,-42,3539,935,340,212,228,9,2267,6620,1971,-93,8500,0\\r\\n03:00,-42,3515,935,338,213,229,9,2267,6471,1965,-2,8398,0\\r\\n03:05,-42,3445,935,341,214,229,9,2268,6807,2035,-218,8422,0\\r\\n03:10,-43,3381,935,341,218,229,9,2267,6985,2048,-129,8304,0\\r\\n03:15,-43,3295,936,342,218,230,9,2268,6914,2038,-132,8289,0\\r\\n03:20,-43,3222,935,342,218,231,9,2268,6957,1964,-297,8453,0\\r\\n03:25,-42,3148,935,340,218,231,8,2268,7183,1944,-318,8430,0\\r\\n03:30,-43,3071,936,339,221,231,9,2269,7160,1933,-337,8513,0\\r\\n03:35,-43,3029,936,340,221,231,9,2268,7053,1940,-393,8676,0\\r\\n03:40,-42,2969,936,340,221,231,9,2268,6923,1947,-487,8970,0\\r\\n03:45,-43,2894,935,341,221,231,9,2269,6846,1947,-457,9063,0\\r\\n03:50,-43,2795,935,340,220,231,9,2269,6787,1947,-382,9080,0\\r\\n03:55,-43,2711,936,340,220,232,9,2269,6815,1939,-336,9056,0\\r\\n04:00,-43,2639,935,338,220,232,8,2269,6909,1921,-198,8877,0\\r\\n04:05,-43,2572,936,339,219,233,9,2269,6676,2007,-53,8732,0\\r\\n04:10,-43,2513,936,338,219,237,9,2270,6635,2023,7,8680,0\\r\\n04:15,-43,2461,936,340,219,236,10,2270,6647,2026,58,8643,0\\r\\n04:20,-44,2433,935,338,220,235,9,2270,6640,1961,176,8692,0\\r\\n04:25,-44,2387,934,339,219,236,9,2270,6643,2005,73,8743,0\\r\\n04:30,-44,2322,934,339,219,236,8,2270,6665,2029,80,8777,0\\r\\n04:35,-44,2242,934,340,219,236,9,2271,6651,1976,29,8920,0\\r\\n04:40,-43,2165,933,340,219,236,9,2270,6746,1961,37,8959,0\\r\\n04:45,-43,2117,933,339,218,236,9,2270,6744,2012,-22,9011,0\\r\\n04:50,-44,2073,931,340,219,236,9,2270,6756,2039,-40,9053,0\\r\\n04:55,-43,2052,933,340,220,236,9,2270,6780,2028,-3,9053,0\\r\\n05:00,-44,2048,933,340,221,236,9,2271,6867,2051,42,9006,0\\r\\n05:05,-44,2042,934,343,221,236,9,2270,7044,2127,-23,8919,0\\r\\n05:10,-44,2042,934,341,222,237,9,2270,7205,2158,-13,8908,0\\r\\n05:15,-45,2025,934,343,221,237,10,2271,7246,2157,99,8828,0\\r\\n05:20,-45,1980,935,344,221,237,9,2270,7278,2149,223,8808,0\\r\\n05:25,-46,1931,935,342,221,237,9,2271,7258,2149,243,8841,0\\r\\n05:30,-45,1889,935,340,221,237,9,2271,7275,2150,241,8868,0\\r\\n05:35,-44,1855,935,341,221,237,9,2272,7341,2153,302,8848,0\\r\\n05:40,-37,1838,935,341,221,237,9,2271,7444,2163,370,8786,0\\r\\n05:45,-26,1811,935,341,220,237,9,2271,7409,2152,617,8537,0\\r\\n05:50,-4,1797,935,340,220,236,9,2272,7291,2152,528,8589,0\\r\\n05:55,52,1771,935,339,219,236,8,2272,7410,2138,513,8561,0\\r\\n06:00,145,1769,934,343,218,235,9,2272,7533,2114,473,8453,0\\r\\n06:05,286,1766,935,347,220,233,9,2272,7637,2151,345,8508,0\\r\\n06:10,507,1777,934,347,219,233,8,2270,7729,2167,303,8496,0\\r\\n06:15,758,1798,933,347,220,233,8,2270,7751,2162,332,8274,0\\r\\n06:20,1083,1794,933,347,219,233,8,2271,7783,2163,312,7969,0\\r\\n06:25,1438,1788,934,347,219,233,8,2271,7856,2164,172,7784,0\\r\\n06:30,1866,1783,933,347,219,233,9,2272,7927,2151,43,7580,0\\r\\n06:35,2314,1752,933,347,219,232,10,2271,7815,2142,0,7492,0\\r\\n06:40,2775,1708,933,345,220,232,10,2272,7362,2149,161,7261,0\\r\\n06:45,3264,1675,932,347,218,232,9,2271,7121,2139,126,7056,0\\r\\n06:50,3767,1645,931,345,218,233,10,2272,6991,2084,57,6882,0\\r\\n06:55,4309,1632,932,348,218,233,11,2272,6975,2061,-103,6767,0\\r\\n07:00,4819,1608,931,346,217,234,10,2272,6808,1954,-160,6728,0\\r\\n07:05,5394,1578,932,347,217,232,11,2272,6347,1603,86,6902,0\\r\\n07:10,5918,1547,931,348,218,229,11,2272,5968,1509,245,6952,0\\r\\n07:15,6435,1524,931,347,218,230,10,2272,5816,1467,211,6637,0\\r\\n07:20,6971,1511,930,347,218,229,10,2272,5703,1376,93,6494,0\\r\\n07:25,7536,1492,930,346,218,229,10,2272,5697,1359,-108,6321,0\\r\\n07:30,8086,1478,929,347,218,228,11,2273,5730,1350,-297,6125,0\\r\\n07:35,8579,1465,929,346,219,229,11,2272,5694,1345,-337,5849,0\\r\\n07:40,9053,1454,928,346,218,230,10,2273,5779,1342,-585,5706,0\\r\\n07:45,9469,1424,926,346,218,230,10,2271,5939,1355,-747,5544,0\\r\\n07:50,9817,1397,917,344,219,230,10,2272,6135,1335,-903,5398,0\\r\\n07:55,10125,1393,922,347,218,230,10,2271,6218,1348,-971,5152,0\\r\\n08:00,10400,1370,923,346,218,231,10,2271,6313,1321,-1071,4966,0\\r\\n08:05,10586,1351,925,346,216,232,10,2271,6393,1244,-1100,4968,0\\r\\n08:10,10797,1320,922,350,215,233,10,2271,6555,1216,-1186,4923,0\\r\\n08:15,10974,1285,921,349,216,234,10,2270,6551,1219,-1180,4869,0\\r\\n08:20,11134,1271,921,348,215,233,11,2271,6542,1213,-1258,4862,0\\r\\n08:25,11290,1253,922,346,215,234,10,2271,6585,1207,-1240,4694,0\\r\\n08:30,11446,1239,921,347,215,234,10,2271,6560,1195,-1286,4568,0\\r\\n08:35,11616,1209,921,349,215,234,10,2272,6678,1252,-1370,4447,0\\r\\n08:40,11737,1162,921,350,215,233,10,2270,6668,1277,-1434,4387,0\\r\\n08:45,11850,1162,922,351,215,232,10,2270,6611,1279,-1380,4251,0\\r\\n08:50,11958,1165,923,348,215,231,11,2268,6729,1284,-1430,4101,0\\r\\n08:55,12073,1168,922,348,215,231,11,2270,6875,1273,-1505,3985,0\\r\\n09:00,12177,1179,921,349,215,230,10,2269,6919,1205,-1568,3901,0\\r\\n09:05,12296,1151,921,349,215,232,10,2268,7131,1218,-1663,3789,0\\r\\n09:10,12384,1149,920,352,215,219,11,2269,7200,1235,-1527,3490,0\\r\\n09:15,12477,1137,918,349,215,212,10,2269,7055,1234,-1536,3443,0\\r\\n09:20,12547,1111,917,349,214,213,11,2269,7033,1230,-1455,3297,0\\r\\n09:25,12611,1077,917,349,215,213,11,2269,6818,1233,-1267,3101,0\\r\\n09:30,12686,1039,917,350,214,212,10,2269,6654,1234,-1146,2877,0\\r\\n09:35,12750,1002,918,349,215,211,10,2269,6635,1292,-1165,2773,0\\r\\n09:40,12812,1000,912,351,215,211,10,2269,6636,1315,-1187,2728,0\\r\\n09:45,12859,985,913,350,215,211,10,2269,6506,1319,-1060,2602,0\\r\\n09:50,12901,977,917,349,215,211,10,2268,6344,1322,-1023,2525,0\\r\\n09:55,12955,979,917,350,215,211,11,2267,6426,1342,-995,2358,0\\r\\n10:00,12993,974,919,345,215,210,11,2268,6423,1340,-1119,2431,0\\r\\n10:05,13026,966,917,343,215,209,10,2265,6572,1389,-1153,2440,0\\r\\n10:10,13050,950,917,346,215,209,10,2267,6484,1381,-1034,2360,0\\r\\n10:15,13089,961,917,350,215,207,10,2266,6434,1378,-1038,2332,0\\r\\n10:20,13121,891,917,352,215,207,11,2267,6456,1394,-975,2266,0\\r\\n10:25,13159,881,917,350,215,208,10,2267,6307,1392,-901,2162,0\\r\\n10:30,13166,930,916,348,215,208,10,2267,6172,1396,-935,2301,0\\r\\n10:35,13195,958,917,348,215,208,10,2267,6130,1364,-834,2209,0\\r\\n10:40,13232,980,916,349,216,208,10,2267,6070,1379,-734,2055,0\\r\\n10:45,13285,986,915,350,214,208,10,2267,6203,1386,-900,2063,0\\r\\n'"
      ]
     },
     "execution_count": 64,
     "metadata": {},
     "output_type": "execute_result"
    }
   ],
   "source": [
    "r.text"
   ]
  },
  {
   "cell_type": "code",
   "execution_count": 65,
   "id": "ae5ab1a7-32ba-415d-b542-fda448110f98",
   "metadata": {},
   "outputs": [],
   "source": [
    "data_io = StringIO(r.text)\n",
    "df = pd.read_csv(data_io, sep = \",\")"
   ]
  },
  {
   "cell_type": "code",
   "execution_count": 70,
   "id": "15822e6c-8e0a-4fef-9d79-387ecb191ce9",
   "metadata": {},
   "outputs": [
    {
     "data": {
      "text/html": [
       "<div>\n",
       "<style scoped>\n",
       "    .dataframe tbody tr th:only-of-type {\n",
       "        vertical-align: middle;\n",
       "    }\n",
       "\n",
       "    .dataframe tbody tr th {\n",
       "        vertical-align: top;\n",
       "    }\n",
       "\n",
       "    .dataframe thead th {\n",
       "        text-align: right;\n",
       "    }\n",
       "</style>\n",
       "<table border=\"1\" class=\"dataframe\">\n",
       "  <thead>\n",
       "    <tr style=\"text-align: right;\">\n",
       "      <th></th>\n",
       "      <th>Time</th>\n",
       "      <th>Solar</th>\n",
       "      <th>Wind</th>\n",
       "      <th>Geothermal</th>\n",
       "      <th>Biomass</th>\n",
       "      <th>Biogas</th>\n",
       "      <th>Small hydro</th>\n",
       "      <th>Coal</th>\n",
       "      <th>Nuclear</th>\n",
       "      <th>Natural Gas</th>\n",
       "      <th>Large Hydro</th>\n",
       "      <th>Batteries</th>\n",
       "      <th>Imports</th>\n",
       "      <th>Other</th>\n",
       "      <th>DateTime</th>\n",
       "      <th>Renewables</th>\n",
       "    </tr>\n",
       "  </thead>\n",
       "  <tbody>\n",
       "    <tr>\n",
       "      <th>125</th>\n",
       "      <td>10:25</td>\n",
       "      <td>13159</td>\n",
       "      <td>881</td>\n",
       "      <td>917</td>\n",
       "      <td>350</td>\n",
       "      <td>215</td>\n",
       "      <td>208</td>\n",
       "      <td>10</td>\n",
       "      <td>2267</td>\n",
       "      <td>6307</td>\n",
       "      <td>1392</td>\n",
       "      <td>-901</td>\n",
       "      <td>2162</td>\n",
       "      <td>0</td>\n",
       "      <td>2022-07-07 10:25:00</td>\n",
       "      <td>15730</td>\n",
       "    </tr>\n",
       "    <tr>\n",
       "      <th>126</th>\n",
       "      <td>10:30</td>\n",
       "      <td>13166</td>\n",
       "      <td>930</td>\n",
       "      <td>916</td>\n",
       "      <td>348</td>\n",
       "      <td>215</td>\n",
       "      <td>208</td>\n",
       "      <td>10</td>\n",
       "      <td>2267</td>\n",
       "      <td>6172</td>\n",
       "      <td>1396</td>\n",
       "      <td>-935</td>\n",
       "      <td>2301</td>\n",
       "      <td>0</td>\n",
       "      <td>2022-07-07 10:30:00</td>\n",
       "      <td>15783</td>\n",
       "    </tr>\n",
       "    <tr>\n",
       "      <th>127</th>\n",
       "      <td>10:35</td>\n",
       "      <td>13195</td>\n",
       "      <td>958</td>\n",
       "      <td>917</td>\n",
       "      <td>348</td>\n",
       "      <td>215</td>\n",
       "      <td>208</td>\n",
       "      <td>10</td>\n",
       "      <td>2267</td>\n",
       "      <td>6130</td>\n",
       "      <td>1364</td>\n",
       "      <td>-834</td>\n",
       "      <td>2209</td>\n",
       "      <td>0</td>\n",
       "      <td>2022-07-07 10:35:00</td>\n",
       "      <td>15841</td>\n",
       "    </tr>\n",
       "    <tr>\n",
       "      <th>128</th>\n",
       "      <td>10:40</td>\n",
       "      <td>13232</td>\n",
       "      <td>980</td>\n",
       "      <td>916</td>\n",
       "      <td>349</td>\n",
       "      <td>216</td>\n",
       "      <td>208</td>\n",
       "      <td>10</td>\n",
       "      <td>2267</td>\n",
       "      <td>6070</td>\n",
       "      <td>1379</td>\n",
       "      <td>-734</td>\n",
       "      <td>2055</td>\n",
       "      <td>0</td>\n",
       "      <td>2022-07-07 10:40:00</td>\n",
       "      <td>15901</td>\n",
       "    </tr>\n",
       "    <tr>\n",
       "      <th>129</th>\n",
       "      <td>10:45</td>\n",
       "      <td>13285</td>\n",
       "      <td>986</td>\n",
       "      <td>915</td>\n",
       "      <td>350</td>\n",
       "      <td>214</td>\n",
       "      <td>208</td>\n",
       "      <td>10</td>\n",
       "      <td>2267</td>\n",
       "      <td>6203</td>\n",
       "      <td>1386</td>\n",
       "      <td>-900</td>\n",
       "      <td>2063</td>\n",
       "      <td>0</td>\n",
       "      <td>2022-07-07 10:45:00</td>\n",
       "      <td>15958</td>\n",
       "    </tr>\n",
       "  </tbody>\n",
       "</table>\n",
       "</div>"
      ],
      "text/plain": [
       "      Time  Solar  Wind  Geothermal  Biomass  Biogas  Small hydro  Coal  \\\n",
       "125  10:25  13159   881         917      350     215          208    10   \n",
       "126  10:30  13166   930         916      348     215          208    10   \n",
       "127  10:35  13195   958         917      348     215          208    10   \n",
       "128  10:40  13232   980         916      349     216          208    10   \n",
       "129  10:45  13285   986         915      350     214          208    10   \n",
       "\n",
       "     Nuclear  Natural Gas  Large Hydro  Batteries  Imports  Other  \\\n",
       "125     2267         6307         1392       -901     2162      0   \n",
       "126     2267         6172         1396       -935     2301      0   \n",
       "127     2267         6130         1364       -834     2209      0   \n",
       "128     2267         6070         1379       -734     2055      0   \n",
       "129     2267         6203         1386       -900     2063      0   \n",
       "\n",
       "               DateTime  Renewables  \n",
       "125 2022-07-07 10:25:00       15730  \n",
       "126 2022-07-07 10:30:00       15783  \n",
       "127 2022-07-07 10:35:00       15841  \n",
       "128 2022-07-07 10:40:00       15901  \n",
       "129 2022-07-07 10:45:00       15958  "
      ]
     },
     "execution_count": 70,
     "metadata": {},
     "output_type": "execute_result"
    }
   ],
   "source": [
    "df.tail()"
   ]
  },
  {
   "cell_type": "code",
   "execution_count": 61,
   "id": "4a9a0e3a-0d56-4fa6-b7bd-455cc956541e",
   "metadata": {},
   "outputs": [
    {
     "data": {
      "text/plain": [
       "17160"
      ]
     },
     "execution_count": 61,
     "metadata": {},
     "output_type": "execute_result"
    }
   ],
   "source": [
    "#sanity check that this adds up to Renewables on webpage from 7/6/2022 11:15 AM\n",
    "13797 + 1686 + 923 + 328 + 218 + 208"
   ]
  },
  {
   "cell_type": "code",
   "execution_count": 67,
   "id": "825c84a0-4e14-4338-bda5-814d16ac2abb",
   "metadata": {},
   "outputs": [
    {
     "name": "stdout",
     "output_type": "stream",
     "text": [
      "Today's date: 2022-07-07\n"
     ]
    }
   ],
   "source": [
    "# clean data a bit \n",
    "today = date.today()\n",
    "print(\"Today's date:\", today) \n",
    "\n",
    "df['DateTime'] = pd.to_datetime(str(today) + ' ' + df['Time'])"
   ]
  },
  {
   "cell_type": "code",
   "execution_count": 69,
   "id": "7c22efb0-183c-4189-aee4-bacc8ef87f2c",
   "metadata": {},
   "outputs": [],
   "source": [
    "# add renewables together\n",
    "df['Renewables'] = df['Solar'] + df['Wind'] + df['Geothermal'] + df['Biomass'] + df['Biogas'] + df['Small hydro']"
   ]
  },
  {
   "cell_type": "code",
   "execution_count": 73,
   "id": "639dc7dc-06a4-4216-99d9-a505d5b5095e",
   "metadata": {},
   "outputs": [],
   "source": [
    "# try to recreate the Supply trend plot on CAISO website \n",
    "supply_trend_plot = df[['DateTime', 'Renewables', 'Natural Gas', 'Large Hydro', 'Imports', 'Batteries', 'Nuclear', 'Coal', 'Other']]"
   ]
  },
  {
   "cell_type": "code",
   "execution_count": 85,
   "id": "1e3001a0-6967-4d42-8e13-b68cc98e67fa",
   "metadata": {},
   "outputs": [
    {
     "data": {
      "image/png": "[encoded data removed]",
      "text/plain": [
       "<Figure size 720x360 with 1 Axes>"
      ]
     },
     "metadata": {
      "needs_background": "light"
     },
     "output_type": "display_data"
    }
   ],
   "source": [
    "%matplotlib inline \n",
    "plt.figure(figsize = (10, 5))\n",
    "plt.plot(df['DateTime'], df['Renewables'], label = 'Renewables')\n",
    "plt.plot(df['DateTime'], df['Natural Gas'], label = 'Natural Gas')\n",
    "plt.plot(df['DateTime'], df['Large Hydro'], label = 'Large Hydro')\n",
    "plt.plot(df['DateTime'], df['Imports'], label = 'Imports')\n",
    "plt.plot(df['DateTime'], df['Batteries'], label = 'Batteries')\n",
    "plt.plot(df['DateTime'], df['Nuclear'], label = 'Nuclear')\n",
    "plt.plot(df['DateTime'], df['Coal'], label = 'Coal')\n",
    "plt.plot(df['DateTime'], df['Other'], label = 'Other')\n",
    "plt.xlabel('Time')\n",
    "plt.ylabel('MW')\n",
    "\n",
    "dtFmt = mdates.DateFormatter('%H:%M')\n",
    "plt.gca().xaxis.set_major_formatter(dtFmt)\n",
    "\n",
    "plt.legend();"
   ]
  },
  {
   "cell_type": "markdown",
   "id": "638e3f78-48d4-4546-bfb5-6c303e2b5446",
   "metadata": {},
   "source": [
    "## Getting Historical and Forecasted Data from Oasis API"
   ]
  },
  {
   "cell_type": "code",
   "execution_count": 9,
   "id": "e10fc2b4-148a-48f4-9401-00aca59f2c32",
   "metadata": {},
   "outputs": [],
   "source": [
    "# Utilitize old cold written for LMP for reference: \n",
    "# https://github.com/mianakajima/caiso_analysis/blob/main/src/oasis_api/oasis_api_helpers.py\n",
    "import zipfile\n",
    "import xml.etree.ElementTree as ET\n",
    "import re\n",
    "import os \n",
    "\n",
    "def get_LMP(start_date, end_date, market_run_id = \"DAM\", node = \"DLAP_PGAE-APND\"):\n",
    "    #start_date and end_date of format YYYYMMDD as a string\n",
    "    LMP_url = f\"http://oasis.caiso.com/oasisapi/SingleZip?queryname=PRC_LMP&\" \\\n",
    "              f\"startdatetime={start_date}T07:00-0000&\" \\\n",
    "              f\"enddatetime={end_date}T07:00-0000&version=1&\" \\\n",
    "              f\"market_run_id={market_run_id}&node={node}\"\n",
    "\n",
    "    r = requests.get(LMP_url)\n",
    "\n",
    "    #change working directory to folder the script is in\n",
    "    abspath = os.path.abspath(__file__)\n",
    "    dname = os.path.dirname(abspath)\n",
    "    os.chdir(dname)\n",
    "    # print(os.getcwd())\n",
    "    # os.chdir('/Users/mnakajim/Documents/Github/caiso_analysis/src/oasis_api')\n",
    "\n",
    "    #extract zipfile\n",
    "    with open('./temp_zip.zip', 'wb') as code:\n",
    "        code.write(r.content)\n",
    "\n",
    "    with zipfile.ZipFile('./temp_zip.zip', 'r') as zip_ref:\n",
    "        zip_ref.extractall('./download_data')\n",
    "\n",
    "\n",
    "    #get name of XML file\n",
    "    header_filename = r.headers['Content-Disposition']\n",
    "    zip_file = re.sub('inline; filename=', '', header_filename)\n",
    "    xml_file = re.sub('.zip;', '.xml', zip_file)\n",
    "    os.remove('temp_zip.zip')\n",
    "    #parse XML file\n",
    "\n",
    "    xml_data = ET.parse(f\"download_data/{xml_file}\")\n",
    "    root = xml_data.getroot()\n",
    "\n",
    "    #extract values of interest\n",
    "    values = [repdata.text for repdata in root.iter('{http://www.caiso.com/soa/OASISReport_v1.xsd}VALUE')]\n",
    "    interval_start = [repdata.text for repdata in\n",
    "                      root.iter('{http://www.caiso.com/soa/OASISReport_v1.xsd}INTERVAL_START_GMT')]\n",
    "    interval_end = [repdata.text for repdata in\n",
    "                    root.iter('{http://www.caiso.com/soa/OASISReport_v1.xsd}INTERVAL_END_GMT')]\n",
    "    interval_num = [repdata.text for repdata in root.iter('{http://www.caiso.com/soa/OASISReport_v1.xsd}INTERVAL_NUM')]\n",
    "    opr_date = [repdata.text for repdata in root.iter('{http://www.caiso.com/soa/OASISReport_v1.xsd}OPR_DATE')]\n",
    "    resource_name = [repdata.text for repdata in\n",
    "                     root.iter('{http://www.caiso.com/soa/OASISReport_v1.xsd}RESOURCE_NAME')]\n",
    "\n",
    "    lmp_df = pd.DataFrame({'opr_date': opr_date,\n",
    "                        'interval_start': interval_start,\n",
    "                        'interval_end': interval_end,\n",
    "                        'interval_num': interval_num,\n",
    "                        'resource_name': resource_name,\n",
    "                        'value': values})\n",
    "\n",
    "    #convert to correct data types\n",
    "    lmp_df[['interval_num', 'value']] = lmp_df[['interval_num', 'value']].apply(pd.to_numeric)\n",
    "    lmp_df[['opr_date', 'interval_start', 'interval_end']] = lmp_df[\n",
    "        ['opr_date', 'interval_start', 'interval_end']].apply(pd.to_datetime)\n",
    "\n",
    "    return(lmp_df)"
   ]
  },
  {
   "cell_type": "code",
   "execution_count": 114,
   "id": "5c55e047-96db-4d10-8bfc-c94420b819e8",
   "metadata": {},
   "outputs": [
    {
     "data": {
      "text/plain": [
       "'http://oasis.caiso.com/oasisapi/SingleZip?queryname=SLD_FCST&startdatetime=20220705T07:00-0000&enddatetime=20220706T07:00-0000&version=1&market_run_id=DAM'"
      ]
     },
     "execution_count": 114,
     "metadata": {},
     "output_type": "execute_result"
    }
   ],
   "source": [
    "# Renewable Forecast Payload \n",
    "start_date = \"20220705\"\n",
    "end_date = \"20220706\"\n",
    "market_run_id = \"DAM\"\n",
    "\n",
    "#data_item = \"SLD_REN_FCST\" # This is just renewables - solar + wind (what is forecasted and also actual) \n",
    "#data_item = \"ISO_TOT_GEN_MW\" # This is the generation (there are also forecasts for next day) \n",
    "\n",
    "data_item = \"SLD_FCST\" # This is the demand forecasted (so how much customers need) \n",
    "\n",
    "renewable_url = f\"http://oasis.caiso.com/oasisapi/SingleZip?queryname={data_item}&\" \\\n",
    "              f\"startdatetime={start_date}T07:00-0000&\" \\\n",
    "              f\"enddatetime={end_date}T07:00-0000&version=1&\" \\\n",
    "              f\"market_run_id={market_run_id}\"\n",
    "\n",
    "renewable_url"
   ]
  },
  {
   "cell_type": "code",
   "execution_count": 106,
   "id": "84405196-bfca-4838-b333-10d48a251dc7",
   "metadata": {},
   "outputs": [],
   "source": [
    "# Make request and unzip file \n",
    "r = requests.get(renewable_url)\n",
    "#extract zipfile\n",
    "with open('./temp_zip.zip', 'wb') as code:\n",
    "    code.write(r.content)\n",
    "    \n",
    "with zipfile.ZipFile('./temp_zip.zip', 'r') as zip_ref:\n",
    "        zip_ref.extractall('./download_data')\n"
   ]
  },
  {
   "cell_type": "code",
   "execution_count": 107,
   "id": "40a7389e-adf6-432d-b695-c06b6d1a1752",
   "metadata": {},
   "outputs": [],
   "source": [
    "#get name of XML file\n",
    "header_filename = r.headers['Content-Disposition']\n",
    "zip_file = re.sub('inline; filename=', '', header_filename)\n",
    "xml_file = re.sub('.zip;', '.xml', zip_file)\n",
    "os.remove('temp_zip.zip')\n",
    "#parse XML file\n",
    "\n",
    "xml_data = ET.parse(f\"download_data/{xml_file}\")\n",
    "root = xml_data.getroot()"
   ]
  },
  {
   "cell_type": "code",
   "execution_count": 108,
   "id": "7d09fa35-b853-4931-9536-9d99a0645d84",
   "metadata": {},
   "outputs": [
    {
     "data": {
      "text/plain": [
       "['{http://www.caiso.com/soa/OASISReport_v1.xsd}OASISReport',\n",
       " '{http://www.caiso.com/soa/OASISReport_v1.xsd}MessageHeader',\n",
       " '{http://www.caiso.com/soa/OASISReport_v1.xsd}TimeDate',\n",
       " '{http://www.caiso.com/soa/OASISReport_v1.xsd}Source',\n",
       " '{http://www.caiso.com/soa/OASISReport_v1.xsd}Version',\n",
       " '{http://www.caiso.com/soa/OASISReport_v1.xsd}MessagePayload',\n",
       " '{http://www.caiso.com/soa/OASISReport_v1.xsd}RTO',\n",
       " '{http://www.caiso.com/soa/OASISReport_v1.xsd}name',\n",
       " '{http://www.caiso.com/soa/OASISReport_v1.xsd}REPORT_ITEM',\n",
       " '{http://www.caiso.com/soa/OASISReport_v1.xsd}REPORT_HEADER',\n",
       " '{http://www.caiso.com/soa/OASISReport_v1.xsd}SYSTEM',\n",
       " '{http://www.caiso.com/soa/OASISReport_v1.xsd}TZ',\n",
       " '{http://www.caiso.com/soa/OASISReport_v1.xsd}REPORT',\n",
       " '{http://www.caiso.com/soa/OASISReport_v1.xsd}MKT_TYPE',\n",
       " '{http://www.caiso.com/soa/OASISReport_v1.xsd}EXECUTION_TYPE',\n",
       " '{http://www.caiso.com/soa/OASISReport_v1.xsd}UOM',\n",
       " '{http://www.caiso.com/soa/OASISReport_v1.xsd}INTERVAL',\n",
       " '{http://www.caiso.com/soa/OASISReport_v1.xsd}SEC_PER_INTERVAL',\n",
       " '{http://www.caiso.com/soa/OASISReport_v1.xsd}REPORT_DATA',\n",
       " '{http://www.caiso.com/soa/OASISReport_v1.xsd}DATA_ITEM',\n",
       " '{http://www.caiso.com/soa/OASISReport_v1.xsd}RESOURCE_NAME',\n",
       " '{http://www.caiso.com/soa/OASISReport_v1.xsd}OPR_DATE',\n",
       " '{http://www.caiso.com/soa/OASISReport_v1.xsd}INTERVAL_NUM',\n",
       " '{http://www.caiso.com/soa/OASISReport_v1.xsd}INTERVAL_START_GMT',\n",
       " '{http://www.caiso.com/soa/OASISReport_v1.xsd}INTERVAL_END_GMT',\n",
       " '{http://www.caiso.com/soa/OASISReport_v1.xsd}VALUE',\n",
       " '{http://www.caiso.com/soa/OASISReport_v1.xsd}REPORT_DATA',\n",
       " '{http://www.caiso.com/soa/OASISReport_v1.xsd}DATA_ITEM',\n",
       " '{http://www.caiso.com/soa/OASISReport_v1.xsd}RESOURCE_NAME',\n",
       " '{http://www.caiso.com/soa/OASISReport_v1.xsd}OPR_DATE',\n",
       " '{http://www.caiso.com/soa/OASISReport_v1.xsd}INTERVAL_NUM',\n",
       " '{http://www.caiso.com/soa/OASISReport_v1.xsd}INTERVAL_START_GMT',\n",
       " '{http://www.caiso.com/soa/OASISReport_v1.xsd}INTERVAL_END_GMT',\n",
       " '{http://www.caiso.com/soa/OASISReport_v1.xsd}VALUE',\n",
       " '{http://www.caiso.com/soa/OASISReport_v1.xsd}REPORT_DATA']"
      ]
     },
     "execution_count": 108,
     "metadata": {},
     "output_type": "execute_result"
    }
   ],
   "source": [
    "# examine tree\n",
    "[elem.tag for elem in root.iter()][:35]"
   ]
  },
  {
   "cell_type": "code",
   "execution_count": 109,
   "id": "29a7caae-d57d-4d89-b859-0e9a1fc5e2ea",
   "metadata": {},
   "outputs": [],
   "source": [
    "# Retreive values \n",
    "values = [repdata.text for repdata in root.iter('{http://www.caiso.com/soa/OASISReport_v1.xsd}VALUE')]\n",
    "start = [repdata.text for repdata in root.iter('{http://www.caiso.com/soa/OASISReport_v1.xsd}INTERVAL_START_GMT')]\n",
    "end = [repdata.text for repdata in root.iter('{http://www.caiso.com/soa/OASISReport_v1.xsd}INTERVAL_END_GMT')]\n",
    "#trading_hub = [repdata.text for repdata in root.iter('{http://www.caiso.com/soa/OASISReport_v1.xsd}TRADING_HUB')]\n",
    "#ren_type = [repdata.text for repdata in root.iter('{http://www.caiso.com/soa/OASISReport_v1.xsd}RENEWABLE_TYPE')]\n",
    "resource_name = [repdata.text for repdata in root.iter('{http://www.caiso.com/soa/OASISReport_v1.xsd}RESOURCE_NAME')]"
   ]
  },
  {
   "cell_type": "code",
   "execution_count": 110,
   "id": "58f9f9d1-3b54-46f0-b2d6-883273cee23c",
   "metadata": {},
   "outputs": [
    {
     "name": "stdout",
     "output_type": "stream",
     "text": [
      "['1074', '1386.71', '1021.57', '1444.11', '886.96', '1254.22', '1422.63', '1392.59', '805.47', '1222.28']\n",
      "['2022-07-05T14:00:00-00:00', '2022-07-06T02:00:00-00:00', '2022-07-06T06:00:00-00:00', '2022-07-06T00:00:00-00:00', '2022-07-05T12:00:00-00:00', '2022-07-06T04:00:00-00:00', '2022-07-05T23:00:00-00:00', '2022-07-05T22:00:00-00:00', '2022-07-05T09:00:00-00:00', '2022-07-05T17:00:00-00:00']\n",
      "['2022-07-05T15:00:00-00:00', '2022-07-06T03:00:00-00:00', '2022-07-06T07:00:00-00:00', '2022-07-06T01:00:00-00:00', '2022-07-05T13:00:00-00:00', '2022-07-06T05:00:00-00:00', '2022-07-06T00:00:00-00:00', '2022-07-05T23:00:00-00:00', '2022-07-05T10:00:00-00:00', '2022-07-05T18:00:00-00:00']\n",
      "['AVA', 'AVA', 'AVA', 'AVA', 'AVA', 'AVA', 'AVA', 'AVA', 'AVA', 'AVA']\n"
     ]
    }
   ],
   "source": [
    "print(values[:10])\n",
    "print(start[:10])\n",
    "print(end[:10])\n",
    "#print(trading_hub[:10])\n",
    "#print(ren_type[:10])\n",
    "print(resource_name[:10])"
   ]
  },
  {
   "cell_type": "code",
   "execution_count": 111,
   "id": "466ebb96-8458-4d79-b1f0-37e9499504fc",
   "metadata": {},
   "outputs": [],
   "source": [
    "#renewables_df = pd.DataFrame({'start_time': start, \n",
    "                             # 'end_time': end, \n",
    "                             # 'forecast': values,\n",
    "                             # 'trading_hub': trading_hub,\n",
    "                             # 'ren_type': ren_type})\n",
    "\n",
    "fcst_df = pd.DataFrame({'start_time': start, \n",
    "                              'end_time': end, \n",
    "                              'forecast': values,\n",
    "                              'resource': resource_name})"
   ]
  },
  {
   "cell_type": "code",
   "execution_count": 113,
   "id": "baa5fac4-e824-49e8-ac4f-66e1dc946ad7",
   "metadata": {},
   "outputs": [
    {
     "data": {
      "text/html": [
       "<div>\n",
       "<style scoped>\n",
       "    .dataframe tbody tr th:only-of-type {\n",
       "        vertical-align: middle;\n",
       "    }\n",
       "\n",
       "    .dataframe tbody tr th {\n",
       "        vertical-align: top;\n",
       "    }\n",
       "\n",
       "    .dataframe thead th {\n",
       "        text-align: right;\n",
       "    }\n",
       "</style>\n",
       "<table border=\"1\" class=\"dataframe\">\n",
       "  <thead>\n",
       "    <tr style=\"text-align: right;\">\n",
       "      <th></th>\n",
       "      <th>start_time</th>\n",
       "      <th>end_time</th>\n",
       "      <th>forecast</th>\n",
       "      <th>resource</th>\n",
       "    </tr>\n",
       "  </thead>\n",
       "  <tbody>\n",
       "    <tr>\n",
       "      <th>691</th>\n",
       "      <td>2022-07-05T08:00:00-00:00</td>\n",
       "      <td>2022-07-05T09:00:00-00:00</td>\n",
       "      <td>54.35</td>\n",
       "      <td>VEA-TAC</td>\n",
       "    </tr>\n",
       "    <tr>\n",
       "      <th>692</th>\n",
       "      <td>2022-07-05T10:00:00-00:00</td>\n",
       "      <td>2022-07-05T11:00:00-00:00</td>\n",
       "      <td>51.42</td>\n",
       "      <td>VEA-TAC</td>\n",
       "    </tr>\n",
       "    <tr>\n",
       "      <th>693</th>\n",
       "      <td>2022-07-05T18:00:00-00:00</td>\n",
       "      <td>2022-07-05T19:00:00-00:00</td>\n",
       "      <td>76.24</td>\n",
       "      <td>VEA-TAC</td>\n",
       "    </tr>\n",
       "    <tr>\n",
       "      <th>694</th>\n",
       "      <td>2022-07-06T02:00:00-00:00</td>\n",
       "      <td>2022-07-06T03:00:00-00:00</td>\n",
       "      <td>93.13</td>\n",
       "      <td>VEA-TAC</td>\n",
       "    </tr>\n",
       "    <tr>\n",
       "      <th>695</th>\n",
       "      <td>2022-07-05T21:00:00-00:00</td>\n",
       "      <td>2022-07-05T22:00:00-00:00</td>\n",
       "      <td>90.9</td>\n",
       "      <td>VEA-TAC</td>\n",
       "    </tr>\n",
       "  </tbody>\n",
       "</table>\n",
       "</div>"
      ],
      "text/plain": [
       "                    start_time                   end_time forecast resource\n",
       "691  2022-07-05T08:00:00-00:00  2022-07-05T09:00:00-00:00    54.35  VEA-TAC\n",
       "692  2022-07-05T10:00:00-00:00  2022-07-05T11:00:00-00:00    51.42  VEA-TAC\n",
       "693  2022-07-05T18:00:00-00:00  2022-07-05T19:00:00-00:00    76.24  VEA-TAC\n",
       "694  2022-07-06T02:00:00-00:00  2022-07-06T03:00:00-00:00    93.13  VEA-TAC\n",
       "695  2022-07-05T21:00:00-00:00  2022-07-05T22:00:00-00:00     90.9  VEA-TAC"
      ]
     },
     "execution_count": 113,
     "metadata": {},
     "output_type": "execute_result"
    }
   ],
   "source": [
    "fcst_df.tail()"
   ]
  },
  {
   "cell_type": "code",
   "execution_count": 36,
   "id": "55fff672-f64b-4da1-be01-37baa5e08548",
   "metadata": {},
   "outputs": [],
   "source": [
    "renewables_df['start_time'] = pd.to_datetime(renewables_df['start_time'])\n",
    "renewables_df['end_time'] = pd.to_datetime(renewables_df['end_time'])\n",
    "renewables_df['forecast'] = [float(num) for num in renewables_df['forecast']]"
   ]
  },
  {
   "cell_type": "code",
   "execution_count": 37,
   "id": "bbe130a2-9143-4e73-a55b-7f5363cb5fed",
   "metadata": {},
   "outputs": [
    {
     "data": {
      "text/plain": [
       "start_time     datetime64[ns, UTC]\n",
       "end_time       datetime64[ns, UTC]\n",
       "forecast                   float64\n",
       "trading_hub                 object\n",
       "ren_type                    object\n",
       "dtype: object"
      ]
     },
     "execution_count": 37,
     "metadata": {},
     "output_type": "execute_result"
    }
   ],
   "source": [
    "renewables_df.dtypes"
   ]
  },
  {
   "cell_type": "code",
   "execution_count": 38,
   "id": "bb3e0548-5729-49cb-b194-4a109e34ba64",
   "metadata": {},
   "outputs": [
    {
     "data": {
      "text/html": [
       "<div>\n",
       "<style scoped>\n",
       "    .dataframe tbody tr th:only-of-type {\n",
       "        vertical-align: middle;\n",
       "    }\n",
       "\n",
       "    .dataframe tbody tr th {\n",
       "        vertical-align: top;\n",
       "    }\n",
       "\n",
       "    .dataframe thead th {\n",
       "        text-align: right;\n",
       "    }\n",
       "</style>\n",
       "<table border=\"1\" class=\"dataframe\">\n",
       "  <thead>\n",
       "    <tr style=\"text-align: right;\">\n",
       "      <th></th>\n",
       "      <th>start_time</th>\n",
       "      <th>end_time</th>\n",
       "      <th>forecast</th>\n",
       "      <th>trading_hub</th>\n",
       "      <th>ren_type</th>\n",
       "    </tr>\n",
       "  </thead>\n",
       "  <tbody>\n",
       "    <tr>\n",
       "      <th>0</th>\n",
       "      <td>2022-07-05 07:00:00+00:00</td>\n",
       "      <td>2022-07-05 08:00:00+00:00</td>\n",
       "      <td>0.0</td>\n",
       "      <td>NP15</td>\n",
       "      <td>Solar</td>\n",
       "    </tr>\n",
       "    <tr>\n",
       "      <th>1</th>\n",
       "      <td>2022-07-05 08:00:00+00:00</td>\n",
       "      <td>2022-07-05 09:00:00+00:00</td>\n",
       "      <td>0.0</td>\n",
       "      <td>NP15</td>\n",
       "      <td>Solar</td>\n",
       "    </tr>\n",
       "    <tr>\n",
       "      <th>2</th>\n",
       "      <td>2022-07-05 09:00:00+00:00</td>\n",
       "      <td>2022-07-05 10:00:00+00:00</td>\n",
       "      <td>0.0</td>\n",
       "      <td>NP15</td>\n",
       "      <td>Solar</td>\n",
       "    </tr>\n",
       "    <tr>\n",
       "      <th>3</th>\n",
       "      <td>2022-07-05 10:00:00+00:00</td>\n",
       "      <td>2022-07-05 11:00:00+00:00</td>\n",
       "      <td>0.0</td>\n",
       "      <td>NP15</td>\n",
       "      <td>Solar</td>\n",
       "    </tr>\n",
       "    <tr>\n",
       "      <th>4</th>\n",
       "      <td>2022-07-05 11:00:00+00:00</td>\n",
       "      <td>2022-07-05 12:00:00+00:00</td>\n",
       "      <td>0.0</td>\n",
       "      <td>NP15</td>\n",
       "      <td>Solar</td>\n",
       "    </tr>\n",
       "  </tbody>\n",
       "</table>\n",
       "</div>"
      ],
      "text/plain": [
       "                 start_time                  end_time  forecast trading_hub  \\\n",
       "0 2022-07-05 07:00:00+00:00 2022-07-05 08:00:00+00:00       0.0        NP15   \n",
       "1 2022-07-05 08:00:00+00:00 2022-07-05 09:00:00+00:00       0.0        NP15   \n",
       "2 2022-07-05 09:00:00+00:00 2022-07-05 10:00:00+00:00       0.0        NP15   \n",
       "3 2022-07-05 10:00:00+00:00 2022-07-05 11:00:00+00:00       0.0        NP15   \n",
       "4 2022-07-05 11:00:00+00:00 2022-07-05 12:00:00+00:00       0.0        NP15   \n",
       "\n",
       "  ren_type  \n",
       "0    Solar  \n",
       "1    Solar  \n",
       "2    Solar  \n",
       "3    Solar  \n",
       "4    Solar  "
      ]
     },
     "execution_count": 38,
     "metadata": {},
     "output_type": "execute_result"
    }
   ],
   "source": [
    "renewables_df.head()"
   ]
  },
  {
   "cell_type": "code",
   "execution_count": 104,
   "id": "c9ffff76-47d3-44da-881a-90f3298f4831",
   "metadata": {},
   "outputs": [
    {
     "data": {
      "image/png": "[encoded data removed]",
      "text/plain": [
       "<Figure size 432x288 with 1 Axes>"
      ]
     },
     "metadata": {
      "needs_background": "light"
     },
     "output_type": "display_data"
    },
    {
     "data": {
      "image/png": "[encoded data removed]",
      "text/plain": [
       "<Figure size 432x288 with 1 Axes>"
      ]
     },
     "metadata": {
      "needs_background": "light"
     },
     "output_type": "display_data"
    },
    {
     "data": {
      "image/png": "[encoded data removed]",
      "text/plain": [
       "<Figure size 432x288 with 1 Axes>"
      ]
     },
     "metadata": {
      "needs_background": "light"
     },
     "output_type": "display_data"
    }
   ],
   "source": [
    "# Plot for each trading hub\n",
    "for hub in renewables_df.trading_hub.unique():\n",
    "    solar = renewables_df.loc[(renewables_df.ren_type == \"Solar\") & (renewables_df.trading_hub == hub)]\n",
    "    solar.plot(x = 'start_time', y = 'forecast', title = hub)"
   ]
  },
  {
   "cell_type": "code",
   "execution_count": null,
   "id": "a40efd8e-7285-40e0-85a7-090ac76c2d0d",
   "metadata": {},
   "outputs": [],
   "source": []
  }
 ],
 "metadata": {
  "kernelspec": {
   "display_name": "myenv0",
   "language": "python",
   "name": "myenv0"
  },
  "language_info": {
   "codemirror_mode": {
    "name": "ipython",
    "version": 3
   },
   "file_extension": ".py",
   "mimetype": "text/x-python",
   "name": "python",
   "nbconvert_exporter": "python",
   "pygments_lexer": "ipython3",
   "version": "3.9.12"
  }
 },
 "nbformat": 4,
 "nbformat_minor": 5
}
