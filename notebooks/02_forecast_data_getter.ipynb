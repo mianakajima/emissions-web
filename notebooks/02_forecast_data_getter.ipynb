{
 "cells": [
  {
   "cell_type": "markdown",
   "source": [
    "# 02: Create functions for getting forecasts"
   ],
   "metadata": {
    "collapsed": false,
    "pycharm": {
     "name": "#%% md\n"
    }
   }
  },
  {
   "cell_type": "code",
   "execution_count": 1,
   "outputs": [
    {
     "data": {
      "text/plain": "'http://oasis.caiso.com/oasisapi/SingleZip?queryname=ENE_SLRS&startdatetime=20220805T07:00-0000&enddatetime=20220806T07:00-0000&version=1&market_run_id=DAM'"
     },
     "execution_count": 1,
     "metadata": {},
     "output_type": "execute_result"
    }
   ],
   "source": [
    "# Renewable Forecast Payload\n",
    "start_date = \"20220805\"\n",
    "end_date = \"20220806\"\n",
    "market_run_id = \"DAM\"\n",
    "\n",
    "#market_run_id = \"SYS_FCST_DA_MW\"\n",
    "#data_item = \"SLD_REN_FCST\" # This is just renewables - solar + wind (what is forecasted and also actual)\n",
    "#data_item = \"ISO_TOT_GEN_MW\" # This is the generation (there are also forecasts for next day)\n",
    "\n",
    "data_item = \"ENE_SLRS\"\n",
    "#data_item = \"SLD_FCST\" # This is the demand forecasted (so how much customers need)\n",
    "\n",
    "renewable_url = f\"http://oasis.caiso.com/oasisapi/SingleZip?queryname={data_item}&\" \\\n",
    "              f\"startdatetime={start_date}T07:00-0000&\" \\\n",
    "              f\"enddatetime={end_date}T07:00-0000&version=1&\"\\\n",
    "              f\"market_run_id={market_run_id}\"\n",
    "\n",
    "\n",
    "renewable_url"
   ],
   "metadata": {
    "collapsed": false,
    "pycharm": {
     "name": "#%%\n"
    }
   }
  },
  {
   "cell_type": "code",
   "execution_count": 2,
   "outputs": [],
   "source": [
    "#os.chdir('..')\n",
    "from emissions_web.helpers.caiso_helpers import *"
   ],
   "metadata": {
    "collapsed": false,
    "pycharm": {
     "name": "#%%\n"
    }
   }
  },
  {
   "cell_type": "code",
   "execution_count": 13,
   "outputs": [],
   "source": [
    "all_gen = get_oasis_forecast(start_date, end_date, market_run_id, data_item)"
   ],
   "metadata": {
    "collapsed": false,
    "pycharm": {
     "name": "#%%\n"
    }
   }
  },
  {
   "cell_type": "code",
   "execution_count": 14,
   "outputs": [
    {
     "data": {
      "text/plain": "  value                 start_date                   end_date resource_name  \\\n0  1735  2022-08-05T10:00:00-00:00  2022-08-05T11:00:00-00:00  Caiso_Totals   \n1  1727  2022-08-05T12:00:00-00:00  2022-08-05T13:00:00-00:00  Caiso_Totals   \n2  3329  2022-08-05T21:00:00-00:00  2022-08-05T22:00:00-00:00  Caiso_Totals   \n3  2171  2022-08-05T14:00:00-00:00  2022-08-05T15:00:00-00:00  Caiso_Totals   \n4  1718  2022-08-05T11:00:00-00:00  2022-08-05T12:00:00-00:00  Caiso_Totals   \n\n        data_item  \n0  ISO_TOT_EXP_MW  \n1  ISO_TOT_EXP_MW  \n2  ISO_TOT_EXP_MW  \n3  ISO_TOT_EXP_MW  \n4  ISO_TOT_EXP_MW  ",
      "text/html": "<div>\n<style scoped>\n    .dataframe tbody tr th:only-of-type {\n        vertical-align: middle;\n    }\n\n    .dataframe tbody tr th {\n        vertical-align: top;\n    }\n\n    .dataframe thead th {\n        text-align: right;\n    }\n</style>\n<table border=\"1\" class=\"dataframe\">\n  <thead>\n    <tr style=\"text-align: right;\">\n      <th></th>\n      <th>value</th>\n      <th>start_date</th>\n      <th>end_date</th>\n      <th>resource_name</th>\n      <th>data_item</th>\n    </tr>\n  </thead>\n  <tbody>\n    <tr>\n      <th>0</th>\n      <td>1735</td>\n      <td>2022-08-05T10:00:00-00:00</td>\n      <td>2022-08-05T11:00:00-00:00</td>\n      <td>Caiso_Totals</td>\n      <td>ISO_TOT_EXP_MW</td>\n    </tr>\n    <tr>\n      <th>1</th>\n      <td>1727</td>\n      <td>2022-08-05T12:00:00-00:00</td>\n      <td>2022-08-05T13:00:00-00:00</td>\n      <td>Caiso_Totals</td>\n      <td>ISO_TOT_EXP_MW</td>\n    </tr>\n    <tr>\n      <th>2</th>\n      <td>3329</td>\n      <td>2022-08-05T21:00:00-00:00</td>\n      <td>2022-08-05T22:00:00-00:00</td>\n      <td>Caiso_Totals</td>\n      <td>ISO_TOT_EXP_MW</td>\n    </tr>\n    <tr>\n      <th>3</th>\n      <td>2171</td>\n      <td>2022-08-05T14:00:00-00:00</td>\n      <td>2022-08-05T15:00:00-00:00</td>\n      <td>Caiso_Totals</td>\n      <td>ISO_TOT_EXP_MW</td>\n    </tr>\n    <tr>\n      <th>4</th>\n      <td>1718</td>\n      <td>2022-08-05T11:00:00-00:00</td>\n      <td>2022-08-05T12:00:00-00:00</td>\n      <td>Caiso_Totals</td>\n      <td>ISO_TOT_EXP_MW</td>\n    </tr>\n  </tbody>\n</table>\n</div>"
     },
     "execution_count": 14,
     "metadata": {},
     "output_type": "execute_result"
    }
   ],
   "source": [
    "all_gen.head()"
   ],
   "metadata": {
    "collapsed": false,
    "pycharm": {
     "name": "#%%\n"
    }
   }
  },
  {
   "cell_type": "code",
   "execution_count": 6,
   "outputs": [],
   "source": [
    "solar_wind = get_oasis_forecast(start_date, end_date, market_run_id, 'SLD_REN_FCST')"
   ],
   "metadata": {
    "collapsed": false,
    "pycharm": {
     "name": "#%%\n"
    }
   }
  },
  {
   "cell_type": "code",
   "execution_count": 7,
   "outputs": [
    {
     "data": {
      "text/plain": "  value                 start_date                   end_date trading_hub  \\\n0     0  2022-08-05T07:00:00-00:00  2022-08-05T08:00:00-00:00        NP15   \n1     0  2022-08-05T08:00:00-00:00  2022-08-05T09:00:00-00:00        NP15   \n2     0  2022-08-05T09:00:00-00:00  2022-08-05T10:00:00-00:00        NP15   \n3     0  2022-08-05T10:00:00-00:00  2022-08-05T11:00:00-00:00        NP15   \n4     0  2022-08-05T11:00:00-00:00  2022-08-05T12:00:00-00:00        NP15   \n\n  ren_type         data_item  \n0    Solar  RENEW_FCST_DA_MW  \n1    Solar  RENEW_FCST_DA_MW  \n2    Solar  RENEW_FCST_DA_MW  \n3    Solar  RENEW_FCST_DA_MW  \n4    Solar  RENEW_FCST_DA_MW  ",
      "text/html": "<div>\n<style scoped>\n    .dataframe tbody tr th:only-of-type {\n        vertical-align: middle;\n    }\n\n    .dataframe tbody tr th {\n        vertical-align: top;\n    }\n\n    .dataframe thead th {\n        text-align: right;\n    }\n</style>\n<table border=\"1\" class=\"dataframe\">\n  <thead>\n    <tr style=\"text-align: right;\">\n      <th></th>\n      <th>value</th>\n      <th>start_date</th>\n      <th>end_date</th>\n      <th>trading_hub</th>\n      <th>ren_type</th>\n      <th>data_item</th>\n    </tr>\n  </thead>\n  <tbody>\n    <tr>\n      <th>0</th>\n      <td>0</td>\n      <td>2022-08-05T07:00:00-00:00</td>\n      <td>2022-08-05T08:00:00-00:00</td>\n      <td>NP15</td>\n      <td>Solar</td>\n      <td>RENEW_FCST_DA_MW</td>\n    </tr>\n    <tr>\n      <th>1</th>\n      <td>0</td>\n      <td>2022-08-05T08:00:00-00:00</td>\n      <td>2022-08-05T09:00:00-00:00</td>\n      <td>NP15</td>\n      <td>Solar</td>\n      <td>RENEW_FCST_DA_MW</td>\n    </tr>\n    <tr>\n      <th>2</th>\n      <td>0</td>\n      <td>2022-08-05T09:00:00-00:00</td>\n      <td>2022-08-05T10:00:00-00:00</td>\n      <td>NP15</td>\n      <td>Solar</td>\n      <td>RENEW_FCST_DA_MW</td>\n    </tr>\n    <tr>\n      <th>3</th>\n      <td>0</td>\n      <td>2022-08-05T10:00:00-00:00</td>\n      <td>2022-08-05T11:00:00-00:00</td>\n      <td>NP15</td>\n      <td>Solar</td>\n      <td>RENEW_FCST_DA_MW</td>\n    </tr>\n    <tr>\n      <th>4</th>\n      <td>0</td>\n      <td>2022-08-05T11:00:00-00:00</td>\n      <td>2022-08-05T12:00:00-00:00</td>\n      <td>NP15</td>\n      <td>Solar</td>\n      <td>RENEW_FCST_DA_MW</td>\n    </tr>\n  </tbody>\n</table>\n</div>"
     },
     "execution_count": 7,
     "metadata": {},
     "output_type": "execute_result"
    }
   ],
   "source": [
    "solar_wind.head()"
   ],
   "metadata": {
    "collapsed": false,
    "pycharm": {
     "name": "#%%\n"
    }
   }
  },
  {
   "cell_type": "code",
   "execution_count": 11,
   "outputs": [
    {
     "data": {
      "text/plain": "array(['NP15', 'SP15', 'ZP26'], dtype=object)"
     },
     "execution_count": 11,
     "metadata": {},
     "output_type": "execute_result"
    }
   ],
   "source": [
    "pd.unique(solar_wind['trading_hub'])"
   ],
   "metadata": {
    "collapsed": false,
    "pycharm": {
     "name": "#%%\n"
    }
   }
  },
  {
   "cell_type": "code",
   "execution_count": 12,
   "outputs": [
    {
     "data": {
      "text/plain": "array(['RENEW_FCST_DA_MW'], dtype=object)"
     },
     "execution_count": 12,
     "metadata": {},
     "output_type": "execute_result"
    }
   ],
   "source": [
    "pd.unique(solar_wind['data_item'])"
   ],
   "metadata": {
    "collapsed": false,
    "pycharm": {
     "name": "#%%\n"
    }
   }
  },
  {
   "cell_type": "code",
   "execution_count": 8,
   "outputs": [],
   "source": [
    "other_solar = get_oasis_forecast(start_date, end_date, market_run_id, 'SLD_FCST')"
   ],
   "metadata": {
    "collapsed": false,
    "pycharm": {
     "name": "#%%\n"
    }
   }
  },
  {
   "cell_type": "code",
   "execution_count": 9,
   "outputs": [
    {
     "data": {
      "text/plain": "     value                 start_date                   end_date  \\\n0  1221.85  2022-08-06T04:00:00-00:00  2022-08-06T05:00:00-00:00   \n1  1017.22  2022-08-05T12:00:00-00:00  2022-08-05T13:00:00-00:00   \n2  1009.42  2022-08-05T07:00:00-00:00  2022-08-05T08:00:00-00:00   \n3  1329.54  2022-08-05T18:00:00-00:00  2022-08-05T19:00:00-00:00   \n4  1292.89  2022-08-05T17:00:00-00:00  2022-08-05T18:00:00-00:00   \n\n  resource_name       data_item  \n0           AVA  SYS_FCST_DA_MW  \n1           AVA  SYS_FCST_DA_MW  \n2           AVA  SYS_FCST_DA_MW  \n3           AVA  SYS_FCST_DA_MW  \n4           AVA  SYS_FCST_DA_MW  ",
      "text/html": "<div>\n<style scoped>\n    .dataframe tbody tr th:only-of-type {\n        vertical-align: middle;\n    }\n\n    .dataframe tbody tr th {\n        vertical-align: top;\n    }\n\n    .dataframe thead th {\n        text-align: right;\n    }\n</style>\n<table border=\"1\" class=\"dataframe\">\n  <thead>\n    <tr style=\"text-align: right;\">\n      <th></th>\n      <th>value</th>\n      <th>start_date</th>\n      <th>end_date</th>\n      <th>resource_name</th>\n      <th>data_item</th>\n    </tr>\n  </thead>\n  <tbody>\n    <tr>\n      <th>0</th>\n      <td>1221.85</td>\n      <td>2022-08-06T04:00:00-00:00</td>\n      <td>2022-08-06T05:00:00-00:00</td>\n      <td>AVA</td>\n      <td>SYS_FCST_DA_MW</td>\n    </tr>\n    <tr>\n      <th>1</th>\n      <td>1017.22</td>\n      <td>2022-08-05T12:00:00-00:00</td>\n      <td>2022-08-05T13:00:00-00:00</td>\n      <td>AVA</td>\n      <td>SYS_FCST_DA_MW</td>\n    </tr>\n    <tr>\n      <th>2</th>\n      <td>1009.42</td>\n      <td>2022-08-05T07:00:00-00:00</td>\n      <td>2022-08-05T08:00:00-00:00</td>\n      <td>AVA</td>\n      <td>SYS_FCST_DA_MW</td>\n    </tr>\n    <tr>\n      <th>3</th>\n      <td>1329.54</td>\n      <td>2022-08-05T18:00:00-00:00</td>\n      <td>2022-08-05T19:00:00-00:00</td>\n      <td>AVA</td>\n      <td>SYS_FCST_DA_MW</td>\n    </tr>\n    <tr>\n      <th>4</th>\n      <td>1292.89</td>\n      <td>2022-08-05T17:00:00-00:00</td>\n      <td>2022-08-05T18:00:00-00:00</td>\n      <td>AVA</td>\n      <td>SYS_FCST_DA_MW</td>\n    </tr>\n  </tbody>\n</table>\n</div>"
     },
     "execution_count": 9,
     "metadata": {},
     "output_type": "execute_result"
    }
   ],
   "source": [
    "other_solar.head()"
   ],
   "metadata": {
    "collapsed": false,
    "pycharm": {
     "name": "#%%\n"
    }
   }
  },
  {
   "cell_type": "code",
   "execution_count": 10,
   "outputs": [
    {
     "data": {
      "text/plain": "array(['AVA', 'AZPS', 'BANC', 'BANCMID', 'BANCRDNG', 'BANCRSVL',\n       'BANCSMUD', 'BANCWASN', 'BPAT', 'CA ISO-TAC', 'IPCO', 'LADWP',\n       'MWD-TAC', 'NEVP', 'NWMT', 'PACE', 'PACW', 'PGE', 'PGE-TAC', 'PNM',\n       'PSEI', 'SCE-TAC', 'SCL', 'SDGE-TAC', 'SRP', 'TEPC', 'TIDC',\n       'TPWR', 'VEA-TAC'], dtype=object)"
     },
     "execution_count": 10,
     "metadata": {},
     "output_type": "execute_result"
    }
   ],
   "source": [
    "pd.unique(other_solar['resource_name'])"
   ],
   "metadata": {
    "collapsed": false,
    "pycharm": {
     "name": "#%%\n"
    }
   }
  },
  {
   "cell_type": "markdown",
   "source": [
    "## Cleaning Data\n",
    "\n",
    "- have to convert data types to dates/numbers"
   ],
   "metadata": {
    "collapsed": false,
    "pycharm": {
     "name": "#%% md\n"
    }
   }
  },
  {
   "cell_type": "code",
   "execution_count": 15,
   "outputs": [
    {
     "data": {
      "text/plain": "       value                 start_date                   end_date  \\\ncount    456                        456                        456   \nunique   411                         24                         24   \ntop        0  2022-08-05T10:00:00-00:00  2022-08-05T11:00:00-00:00   \nfreq      21                         19                         19   \n\n       resource_name    data_item  \ncount            456          456  \nunique             6            8  \ntop     Caiso_Totals  TOT_LOAD_MW  \nfreq              96          120  ",
      "text/html": "<div>\n<style scoped>\n    .dataframe tbody tr th:only-of-type {\n        vertical-align: middle;\n    }\n\n    .dataframe tbody tr th {\n        vertical-align: top;\n    }\n\n    .dataframe thead th {\n        text-align: right;\n    }\n</style>\n<table border=\"1\" class=\"dataframe\">\n  <thead>\n    <tr style=\"text-align: right;\">\n      <th></th>\n      <th>value</th>\n      <th>start_date</th>\n      <th>end_date</th>\n      <th>resource_name</th>\n      <th>data_item</th>\n    </tr>\n  </thead>\n  <tbody>\n    <tr>\n      <th>count</th>\n      <td>456</td>\n      <td>456</td>\n      <td>456</td>\n      <td>456</td>\n      <td>456</td>\n    </tr>\n    <tr>\n      <th>unique</th>\n      <td>411</td>\n      <td>24</td>\n      <td>24</td>\n      <td>6</td>\n      <td>8</td>\n    </tr>\n    <tr>\n      <th>top</th>\n      <td>0</td>\n      <td>2022-08-05T10:00:00-00:00</td>\n      <td>2022-08-05T11:00:00-00:00</td>\n      <td>Caiso_Totals</td>\n      <td>TOT_LOAD_MW</td>\n    </tr>\n    <tr>\n      <th>freq</th>\n      <td>21</td>\n      <td>19</td>\n      <td>19</td>\n      <td>96</td>\n      <td>120</td>\n    </tr>\n  </tbody>\n</table>\n</div>"
     },
     "execution_count": 15,
     "metadata": {},
     "output_type": "execute_result"
    }
   ],
   "source": [
    "all_gen.describe()"
   ],
   "metadata": {
    "collapsed": false,
    "pycharm": {
     "name": "#%%\n"
    }
   }
  },
  {
   "cell_type": "code",
   "execution_count": 16,
   "outputs": [
    {
     "data": {
      "text/plain": "       value                 start_date                   end_date  \\\ncount    120                        120                        120   \nunique    95                         24                         24   \ntop        0  2022-08-05T07:00:00-00:00  2022-08-05T08:00:00-00:00   \nfreq      26                          5                          5   \n\n       trading_hub ren_type         data_item  \ncount          120      120               120  \nunique           3        2                 1  \ntop           NP15    Solar  RENEW_FCST_DA_MW  \nfreq            48       72               120  ",
      "text/html": "<div>\n<style scoped>\n    .dataframe tbody tr th:only-of-type {\n        vertical-align: middle;\n    }\n\n    .dataframe tbody tr th {\n        vertical-align: top;\n    }\n\n    .dataframe thead th {\n        text-align: right;\n    }\n</style>\n<table border=\"1\" class=\"dataframe\">\n  <thead>\n    <tr style=\"text-align: right;\">\n      <th></th>\n      <th>value</th>\n      <th>start_date</th>\n      <th>end_date</th>\n      <th>trading_hub</th>\n      <th>ren_type</th>\n      <th>data_item</th>\n    </tr>\n  </thead>\n  <tbody>\n    <tr>\n      <th>count</th>\n      <td>120</td>\n      <td>120</td>\n      <td>120</td>\n      <td>120</td>\n      <td>120</td>\n      <td>120</td>\n    </tr>\n    <tr>\n      <th>unique</th>\n      <td>95</td>\n      <td>24</td>\n      <td>24</td>\n      <td>3</td>\n      <td>2</td>\n      <td>1</td>\n    </tr>\n    <tr>\n      <th>top</th>\n      <td>0</td>\n      <td>2022-08-05T07:00:00-00:00</td>\n      <td>2022-08-05T08:00:00-00:00</td>\n      <td>NP15</td>\n      <td>Solar</td>\n      <td>RENEW_FCST_DA_MW</td>\n    </tr>\n    <tr>\n      <th>freq</th>\n      <td>26</td>\n      <td>5</td>\n      <td>5</td>\n      <td>48</td>\n      <td>72</td>\n      <td>120</td>\n    </tr>\n  </tbody>\n</table>\n</div>"
     },
     "execution_count": 16,
     "metadata": {},
     "output_type": "execute_result"
    }
   ],
   "source": [
    "solar_wind.describe()"
   ],
   "metadata": {
    "collapsed": false,
    "pycharm": {
     "name": "#%%\n"
    }
   }
  },
  {
   "cell_type": "code",
   "execution_count": 17,
   "outputs": [
    {
     "data": {
      "text/plain": "array(['ISO_TOT_EXP_MW', 'ISO_TOT_GEN_MW', 'ISO_TOT_IMP_MW',\n       'ISO_TOT_LOAD_MW', 'TOT_LOAD_MW', 'TOT_EXP_MW', 'TOT_GEN_MW',\n       'TOT_IMP_MW'], dtype=object)"
     },
     "execution_count": 17,
     "metadata": {},
     "output_type": "execute_result"
    }
   ],
   "source": [
    "pd.unique(all_gen['data_item'])"
   ],
   "metadata": {
    "collapsed": false,
    "pycharm": {
     "name": "#%%\n"
    }
   }
  },
  {
   "cell_type": "code",
   "execution_count": 18,
   "outputs": [],
   "source": [
    "solar_wind_actual = get_oasis_forecast('20220819', '20220820', 'ACTUAL', 'SLD_REN_FCST')"
   ],
   "metadata": {
    "collapsed": false,
    "pycharm": {
     "name": "#%%\n"
    }
   }
  },
  {
   "cell_type": "code",
   "execution_count": 26,
   "outputs": [
    {
     "data": {
      "text/plain": "         value                 start_date                   end_date  \\\n0     -4.48703  2022-08-19T07:00:00-00:00  2022-08-19T08:00:00-00:00   \n1   1571.37577  2022-08-19T15:00:00-00:00  2022-08-19T16:00:00-00:00   \n2   1716.34932  2022-08-19T23:00:00-00:00  2022-08-20T00:00:00-00:00   \n3   1827.94496  2022-08-19T22:00:00-00:00  2022-08-19T23:00:00-00:00   \n4   1770.37962  2022-08-19T21:00:00-00:00  2022-08-19T22:00:00-00:00   \n..         ...                        ...                        ...   \n80    -5.97101  2022-08-19T09:00:00-00:00  2022-08-19T10:00:00-00:00   \n81  1738.42269  2022-08-19T16:00:00-00:00  2022-08-19T17:00:00-00:00   \n82    -5.91156  2022-08-19T08:00:00-00:00  2022-08-19T09:00:00-00:00   \n83  1969.09905  2022-08-19T19:00:00-00:00  2022-08-19T20:00:00-00:00   \n84  1728.46063  2022-08-19T23:00:00-00:00  2022-08-20T00:00:00-00:00   \n\n   trading_hub ren_type          data_item  \n0         NP15    Solar  RENEW_FCST_ACT_MW  \n1         NP15    Solar  RENEW_FCST_ACT_MW  \n2         NP15    Solar  RENEW_FCST_ACT_MW  \n3         NP15    Solar  RENEW_FCST_ACT_MW  \n4         NP15    Solar  RENEW_FCST_ACT_MW  \n..         ...      ...                ...  \n80        ZP26    Solar  RENEW_FCST_ACT_MW  \n81        ZP26    Solar  RENEW_FCST_ACT_MW  \n82        ZP26    Solar  RENEW_FCST_ACT_MW  \n83        ZP26    Solar  RENEW_FCST_ACT_MW  \n84        ZP26    Solar  RENEW_FCST_ACT_MW  \n\n[85 rows x 6 columns]",
      "text/html": "<div>\n<style scoped>\n    .dataframe tbody tr th:only-of-type {\n        vertical-align: middle;\n    }\n\n    .dataframe tbody tr th {\n        vertical-align: top;\n    }\n\n    .dataframe thead th {\n        text-align: right;\n    }\n</style>\n<table border=\"1\" class=\"dataframe\">\n  <thead>\n    <tr style=\"text-align: right;\">\n      <th></th>\n      <th>value</th>\n      <th>start_date</th>\n      <th>end_date</th>\n      <th>trading_hub</th>\n      <th>ren_type</th>\n      <th>data_item</th>\n    </tr>\n  </thead>\n  <tbody>\n    <tr>\n      <th>0</th>\n      <td>-4.48703</td>\n      <td>2022-08-19T07:00:00-00:00</td>\n      <td>2022-08-19T08:00:00-00:00</td>\n      <td>NP15</td>\n      <td>Solar</td>\n      <td>RENEW_FCST_ACT_MW</td>\n    </tr>\n    <tr>\n      <th>1</th>\n      <td>1571.37577</td>\n      <td>2022-08-19T15:00:00-00:00</td>\n      <td>2022-08-19T16:00:00-00:00</td>\n      <td>NP15</td>\n      <td>Solar</td>\n      <td>RENEW_FCST_ACT_MW</td>\n    </tr>\n    <tr>\n      <th>2</th>\n      <td>1716.34932</td>\n      <td>2022-08-19T23:00:00-00:00</td>\n      <td>2022-08-20T00:00:00-00:00</td>\n      <td>NP15</td>\n      <td>Solar</td>\n      <td>RENEW_FCST_ACT_MW</td>\n    </tr>\n    <tr>\n      <th>3</th>\n      <td>1827.94496</td>\n      <td>2022-08-19T22:00:00-00:00</td>\n      <td>2022-08-19T23:00:00-00:00</td>\n      <td>NP15</td>\n      <td>Solar</td>\n      <td>RENEW_FCST_ACT_MW</td>\n    </tr>\n    <tr>\n      <th>4</th>\n      <td>1770.37962</td>\n      <td>2022-08-19T21:00:00-00:00</td>\n      <td>2022-08-19T22:00:00-00:00</td>\n      <td>NP15</td>\n      <td>Solar</td>\n      <td>RENEW_FCST_ACT_MW</td>\n    </tr>\n    <tr>\n      <th>...</th>\n      <td>...</td>\n      <td>...</td>\n      <td>...</td>\n      <td>...</td>\n      <td>...</td>\n      <td>...</td>\n    </tr>\n    <tr>\n      <th>80</th>\n      <td>-5.97101</td>\n      <td>2022-08-19T09:00:00-00:00</td>\n      <td>2022-08-19T10:00:00-00:00</td>\n      <td>ZP26</td>\n      <td>Solar</td>\n      <td>RENEW_FCST_ACT_MW</td>\n    </tr>\n    <tr>\n      <th>81</th>\n      <td>1738.42269</td>\n      <td>2022-08-19T16:00:00-00:00</td>\n      <td>2022-08-19T17:00:00-00:00</td>\n      <td>ZP26</td>\n      <td>Solar</td>\n      <td>RENEW_FCST_ACT_MW</td>\n    </tr>\n    <tr>\n      <th>82</th>\n      <td>-5.91156</td>\n      <td>2022-08-19T08:00:00-00:00</td>\n      <td>2022-08-19T09:00:00-00:00</td>\n      <td>ZP26</td>\n      <td>Solar</td>\n      <td>RENEW_FCST_ACT_MW</td>\n    </tr>\n    <tr>\n      <th>83</th>\n      <td>1969.09905</td>\n      <td>2022-08-19T19:00:00-00:00</td>\n      <td>2022-08-19T20:00:00-00:00</td>\n      <td>ZP26</td>\n      <td>Solar</td>\n      <td>RENEW_FCST_ACT_MW</td>\n    </tr>\n    <tr>\n      <th>84</th>\n      <td>1728.46063</td>\n      <td>2022-08-19T23:00:00-00:00</td>\n      <td>2022-08-20T00:00:00-00:00</td>\n      <td>ZP26</td>\n      <td>Solar</td>\n      <td>RENEW_FCST_ACT_MW</td>\n    </tr>\n  </tbody>\n</table>\n<p>85 rows × 6 columns</p>\n</div>"
     },
     "execution_count": 26,
     "metadata": {},
     "output_type": "execute_result"
    }
   ],
   "source": [
    "solar_wind_actual"
   ],
   "metadata": {
    "collapsed": false,
    "pycharm": {
     "name": "#%%\n"
    }
   }
  },
  {
   "cell_type": "code",
   "execution_count": 20,
   "outputs": [
    {
     "data": {
      "text/plain": "           value                 start_date                   end_date  \\\ncount         85                         85                         85   \nunique        85                         17                         17   \ntop     -4.48703  2022-08-19T07:00:00-00:00  2022-08-19T08:00:00-00:00   \nfreq           1                          5                          5   \n\n       trading_hub ren_type          data_item  \ncount           85       85                 85  \nunique           3        2                  1  \ntop           NP15    Solar  RENEW_FCST_ACT_MW  \nfreq            34       51                 85  ",
      "text/html": "<div>\n<style scoped>\n    .dataframe tbody tr th:only-of-type {\n        vertical-align: middle;\n    }\n\n    .dataframe tbody tr th {\n        vertical-align: top;\n    }\n\n    .dataframe thead th {\n        text-align: right;\n    }\n</style>\n<table border=\"1\" class=\"dataframe\">\n  <thead>\n    <tr style=\"text-align: right;\">\n      <th></th>\n      <th>value</th>\n      <th>start_date</th>\n      <th>end_date</th>\n      <th>trading_hub</th>\n      <th>ren_type</th>\n      <th>data_item</th>\n    </tr>\n  </thead>\n  <tbody>\n    <tr>\n      <th>count</th>\n      <td>85</td>\n      <td>85</td>\n      <td>85</td>\n      <td>85</td>\n      <td>85</td>\n      <td>85</td>\n    </tr>\n    <tr>\n      <th>unique</th>\n      <td>85</td>\n      <td>17</td>\n      <td>17</td>\n      <td>3</td>\n      <td>2</td>\n      <td>1</td>\n    </tr>\n    <tr>\n      <th>top</th>\n      <td>-4.48703</td>\n      <td>2022-08-19T07:00:00-00:00</td>\n      <td>2022-08-19T08:00:00-00:00</td>\n      <td>NP15</td>\n      <td>Solar</td>\n      <td>RENEW_FCST_ACT_MW</td>\n    </tr>\n    <tr>\n      <th>freq</th>\n      <td>1</td>\n      <td>5</td>\n      <td>5</td>\n      <td>34</td>\n      <td>51</td>\n      <td>85</td>\n    </tr>\n  </tbody>\n</table>\n</div>"
     },
     "execution_count": 20,
     "metadata": {},
     "output_type": "execute_result"
    }
   ],
   "source": [
    "solar_wind_actual.describe()"
   ],
   "metadata": {
    "collapsed": false,
    "pycharm": {
     "name": "#%%\n"
    }
   }
  },
  {
   "cell_type": "code",
   "execution_count": 22,
   "outputs": [],
   "source": [
    "solar_wind_actual_agg = solar_wind_actual.groupby(['start_date', 'ren_type']).agg({'value': 'sum'})"
   ],
   "metadata": {
    "collapsed": false,
    "pycharm": {
     "name": "#%%\n"
    }
   }
  },
  {
   "cell_type": "code",
   "execution_count": 23,
   "outputs": [
    {
     "data": {
      "text/plain": "                                                             value\nstart_date                ren_type                                \n2022-08-19T07:00:00-00:00 Solar            -4.48703-32.96085-5.882\n                          Wind                1108.358132745.33436\n2022-08-19T08:00:00-00:00 Solar          -4.50568-32.41668-5.91156\n                          Wind                1060.280942703.07411\n2022-08-19T09:00:00-00:00 Solar           -4.50279-88.0799-5.97101\n                          Wind                1076.481032562.83713\n2022-08-19T10:00:00-00:00 Solar          -4.52271-29.66621-5.93407\n                          Wind                1078.561192322.53035\n2022-08-19T11:00:00-00:00 Solar          -4.47701-37.00287-5.99957\n                          Wind                1070.838081845.77051\n2022-08-19T12:00:00-00:00 Solar           -4.44602-35.8234-6.05599\n                          Wind                1062.289541263.92849\n2022-08-19T13:00:00-00:00 Solar           36.73882274.667327.30328\n                          Wind                  975.92812654.86073\n2022-08-19T14:00:00-00:00 Solar       768.900872914.07731603.99483\n                          Wind                  898.82525326.67489\n2022-08-19T15:00:00-00:00 Solar      1571.375775999.84071379.21321\n                          Wind                  789.42509187.34042\n2022-08-19T16:00:00-00:00 Solar     1763.820777291.597241738.42269\n                          Wind                  699.71347154.03258\n2022-08-19T17:00:00-00:00 Solar     1777.822027727.141541879.05729\n                          Wind                  499.58445116.32304\n2022-08-19T18:00:00-00:00 Solar       1769.2438163.160451928.60005\n                          Wind                   364.9290395.22789\n2022-08-19T19:00:00-00:00 Solar     1777.943518515.212081969.09905\n                          Wind                  357.92491168.50497\n2022-08-19T20:00:00-00:00 Solar     1770.837478777.564661942.21534\n                          Wind                  423.07801505.75313\n2022-08-19T21:00:00-00:00 Solar     1770.379628517.993091927.32972\n                          Wind                  505.52672975.18882\n2022-08-19T22:00:00-00:00 Solar     1827.944968180.985891862.45116\n                          Wind                  564.632091521.4663\n2022-08-19T23:00:00-00:00 Solar     1716.349327493.938261728.46063\n                          Wind                 611.048641836.70256",
      "text/html": "<div>\n<style scoped>\n    .dataframe tbody tr th:only-of-type {\n        vertical-align: middle;\n    }\n\n    .dataframe tbody tr th {\n        vertical-align: top;\n    }\n\n    .dataframe thead th {\n        text-align: right;\n    }\n</style>\n<table border=\"1\" class=\"dataframe\">\n  <thead>\n    <tr style=\"text-align: right;\">\n      <th></th>\n      <th></th>\n      <th>value</th>\n    </tr>\n    <tr>\n      <th>start_date</th>\n      <th>ren_type</th>\n      <th></th>\n    </tr>\n  </thead>\n  <tbody>\n    <tr>\n      <th rowspan=\"2\" valign=\"top\">2022-08-19T07:00:00-00:00</th>\n      <th>Solar</th>\n      <td>-4.48703-32.96085-5.882</td>\n    </tr>\n    <tr>\n      <th>Wind</th>\n      <td>1108.358132745.33436</td>\n    </tr>\n    <tr>\n      <th rowspan=\"2\" valign=\"top\">2022-08-19T08:00:00-00:00</th>\n      <th>Solar</th>\n      <td>-4.50568-32.41668-5.91156</td>\n    </tr>\n    <tr>\n      <th>Wind</th>\n      <td>1060.280942703.07411</td>\n    </tr>\n    <tr>\n      <th rowspan=\"2\" valign=\"top\">2022-08-19T09:00:00-00:00</th>\n      <th>Solar</th>\n      <td>-4.50279-88.0799-5.97101</td>\n    </tr>\n    <tr>\n      <th>Wind</th>\n      <td>1076.481032562.83713</td>\n    </tr>\n    <tr>\n      <th rowspan=\"2\" valign=\"top\">2022-08-19T10:00:00-00:00</th>\n      <th>Solar</th>\n      <td>-4.52271-29.66621-5.93407</td>\n    </tr>\n    <tr>\n      <th>Wind</th>\n      <td>1078.561192322.53035</td>\n    </tr>\n    <tr>\n      <th rowspan=\"2\" valign=\"top\">2022-08-19T11:00:00-00:00</th>\n      <th>Solar</th>\n      <td>-4.47701-37.00287-5.99957</td>\n    </tr>\n    <tr>\n      <th>Wind</th>\n      <td>1070.838081845.77051</td>\n    </tr>\n    <tr>\n      <th rowspan=\"2\" valign=\"top\">2022-08-19T12:00:00-00:00</th>\n      <th>Solar</th>\n      <td>-4.44602-35.8234-6.05599</td>\n    </tr>\n    <tr>\n      <th>Wind</th>\n      <td>1062.289541263.92849</td>\n    </tr>\n    <tr>\n      <th rowspan=\"2\" valign=\"top\">2022-08-19T13:00:00-00:00</th>\n      <th>Solar</th>\n      <td>36.73882274.667327.30328</td>\n    </tr>\n    <tr>\n      <th>Wind</th>\n      <td>975.92812654.86073</td>\n    </tr>\n    <tr>\n      <th rowspan=\"2\" valign=\"top\">2022-08-19T14:00:00-00:00</th>\n      <th>Solar</th>\n      <td>768.900872914.07731603.99483</td>\n    </tr>\n    <tr>\n      <th>Wind</th>\n      <td>898.82525326.67489</td>\n    </tr>\n    <tr>\n      <th rowspan=\"2\" valign=\"top\">2022-08-19T15:00:00-00:00</th>\n      <th>Solar</th>\n      <td>1571.375775999.84071379.21321</td>\n    </tr>\n    <tr>\n      <th>Wind</th>\n      <td>789.42509187.34042</td>\n    </tr>\n    <tr>\n      <th rowspan=\"2\" valign=\"top\">2022-08-19T16:00:00-00:00</th>\n      <th>Solar</th>\n      <td>1763.820777291.597241738.42269</td>\n    </tr>\n    <tr>\n      <th>Wind</th>\n      <td>699.71347154.03258</td>\n    </tr>\n    <tr>\n      <th rowspan=\"2\" valign=\"top\">2022-08-19T17:00:00-00:00</th>\n      <th>Solar</th>\n      <td>1777.822027727.141541879.05729</td>\n    </tr>\n    <tr>\n      <th>Wind</th>\n      <td>499.58445116.32304</td>\n    </tr>\n    <tr>\n      <th rowspan=\"2\" valign=\"top\">2022-08-19T18:00:00-00:00</th>\n      <th>Solar</th>\n      <td>1769.2438163.160451928.60005</td>\n    </tr>\n    <tr>\n      <th>Wind</th>\n      <td>364.9290395.22789</td>\n    </tr>\n    <tr>\n      <th rowspan=\"2\" valign=\"top\">2022-08-19T19:00:00-00:00</th>\n      <th>Solar</th>\n      <td>1777.943518515.212081969.09905</td>\n    </tr>\n    <tr>\n      <th>Wind</th>\n      <td>357.92491168.50497</td>\n    </tr>\n    <tr>\n      <th rowspan=\"2\" valign=\"top\">2022-08-19T20:00:00-00:00</th>\n      <th>Solar</th>\n      <td>1770.837478777.564661942.21534</td>\n    </tr>\n    <tr>\n      <th>Wind</th>\n      <td>423.07801505.75313</td>\n    </tr>\n    <tr>\n      <th rowspan=\"2\" valign=\"top\">2022-08-19T21:00:00-00:00</th>\n      <th>Solar</th>\n      <td>1770.379628517.993091927.32972</td>\n    </tr>\n    <tr>\n      <th>Wind</th>\n      <td>505.52672975.18882</td>\n    </tr>\n    <tr>\n      <th rowspan=\"2\" valign=\"top\">2022-08-19T22:00:00-00:00</th>\n      <th>Solar</th>\n      <td>1827.944968180.985891862.45116</td>\n    </tr>\n    <tr>\n      <th>Wind</th>\n      <td>564.632091521.4663</td>\n    </tr>\n    <tr>\n      <th rowspan=\"2\" valign=\"top\">2022-08-19T23:00:00-00:00</th>\n      <th>Solar</th>\n      <td>1716.349327493.938261728.46063</td>\n    </tr>\n    <tr>\n      <th>Wind</th>\n      <td>611.048641836.70256</td>\n    </tr>\n  </tbody>\n</table>\n</div>"
     },
     "execution_count": 23,
     "metadata": {},
     "output_type": "execute_result"
    }
   ],
   "source": [
    "solar_wind_actual_agg"
   ],
   "metadata": {
    "collapsed": false,
    "pycharm": {
     "name": "#%%\n"
    }
   }
  },
  {
   "cell_type": "code",
   "execution_count": 24,
   "outputs": [],
   "source": [
    "supply_trend = get_supply_trend_today()"
   ],
   "metadata": {
    "collapsed": false,
    "pycharm": {
     "name": "#%%\n"
    }
   }
  },
  {
   "cell_type": "code",
   "execution_count": 25,
   "outputs": [
    {
     "data": {
      "text/plain": "     Solar  Wind  Geothermal  Biomass  Biogas  Small hydro  Coal  Nuclear  \\\n0      -41  3948         923      386     212          189    14     2261   \n1      -43  3926         923      384     212          188    14     2261   \n2      -43  3912         922      383     211          189    13     2260   \n3      -44  3888         923      376     211          188    14     2261   \n4      -43  3879         922      368     211          187    14     2261   \n..     ...   ...         ...      ...     ...          ...   ...      ...   \n211   9703  3177         854      398     207          226    14     2266   \n212   9392  3151         853      399     207          228    15     2266   \n213   8996  3180         854      399     207          229    14     2266   \n214   8519  3179         855      399     207          228    14     2266   \n215   8019  3158         854      399     207          228    14     2266   \n\n     Natural Gas  Large Hydro  Batteries  Imports  Other            DateTime  \n0          11776         2504         -2     7451      0 2022-08-19 00:00:00  \n1          11952         2390        517     7025      0 2022-08-19 00:05:00  \n2          11826         2372        637     6875      0 2022-08-19 00:10:00  \n3          11743         2457        421     6969      0 2022-08-19 00:15:00  \n4          11616         2370        265     7236      0 2022-08-19 00:20:00  \n..           ...          ...        ...      ...    ...                 ...  \n211        15848         3107        667     4793      0 2022-08-19 17:35:00  \n212        15971         3118        628     5091      0 2022-08-19 17:40:00  \n213        16120         3131        634     5384      0 2022-08-19 17:45:00  \n214        16377         3150        825     5413      0 2022-08-19 17:50:00  \n215        16561         3204        848     5534      0 2022-08-19 17:55:00  \n\n[216 rows x 14 columns]",
      "text/html": "<div>\n<style scoped>\n    .dataframe tbody tr th:only-of-type {\n        vertical-align: middle;\n    }\n\n    .dataframe tbody tr th {\n        vertical-align: top;\n    }\n\n    .dataframe thead th {\n        text-align: right;\n    }\n</style>\n<table border=\"1\" class=\"dataframe\">\n  <thead>\n    <tr style=\"text-align: right;\">\n      <th></th>\n      <th>Solar</th>\n      <th>Wind</th>\n      <th>Geothermal</th>\n      <th>Biomass</th>\n      <th>Biogas</th>\n      <th>Small hydro</th>\n      <th>Coal</th>\n      <th>Nuclear</th>\n      <th>Natural Gas</th>\n      <th>Large Hydro</th>\n      <th>Batteries</th>\n      <th>Imports</th>\n      <th>Other</th>\n      <th>DateTime</th>\n    </tr>\n  </thead>\n  <tbody>\n    <tr>\n      <th>0</th>\n      <td>-41</td>\n      <td>3948</td>\n      <td>923</td>\n      <td>386</td>\n      <td>212</td>\n      <td>189</td>\n      <td>14</td>\n      <td>2261</td>\n      <td>11776</td>\n      <td>2504</td>\n      <td>-2</td>\n      <td>7451</td>\n      <td>0</td>\n      <td>2022-08-19 00:00:00</td>\n    </tr>\n    <tr>\n      <th>1</th>\n      <td>-43</td>\n      <td>3926</td>\n      <td>923</td>\n      <td>384</td>\n      <td>212</td>\n      <td>188</td>\n      <td>14</td>\n      <td>2261</td>\n      <td>11952</td>\n      <td>2390</td>\n      <td>517</td>\n      <td>7025</td>\n      <td>0</td>\n      <td>2022-08-19 00:05:00</td>\n    </tr>\n    <tr>\n      <th>2</th>\n      <td>-43</td>\n      <td>3912</td>\n      <td>922</td>\n      <td>383</td>\n      <td>211</td>\n      <td>189</td>\n      <td>13</td>\n      <td>2260</td>\n      <td>11826</td>\n      <td>2372</td>\n      <td>637</td>\n      <td>6875</td>\n      <td>0</td>\n      <td>2022-08-19 00:10:00</td>\n    </tr>\n    <tr>\n      <th>3</th>\n      <td>-44</td>\n      <td>3888</td>\n      <td>923</td>\n      <td>376</td>\n      <td>211</td>\n      <td>188</td>\n      <td>14</td>\n      <td>2261</td>\n      <td>11743</td>\n      <td>2457</td>\n      <td>421</td>\n      <td>6969</td>\n      <td>0</td>\n      <td>2022-08-19 00:15:00</td>\n    </tr>\n    <tr>\n      <th>4</th>\n      <td>-43</td>\n      <td>3879</td>\n      <td>922</td>\n      <td>368</td>\n      <td>211</td>\n      <td>187</td>\n      <td>14</td>\n      <td>2261</td>\n      <td>11616</td>\n      <td>2370</td>\n      <td>265</td>\n      <td>7236</td>\n      <td>0</td>\n      <td>2022-08-19 00:20:00</td>\n    </tr>\n    <tr>\n      <th>...</th>\n      <td>...</td>\n      <td>...</td>\n      <td>...</td>\n      <td>...</td>\n      <td>...</td>\n      <td>...</td>\n      <td>...</td>\n      <td>...</td>\n      <td>...</td>\n      <td>...</td>\n      <td>...</td>\n      <td>...</td>\n      <td>...</td>\n      <td>...</td>\n    </tr>\n    <tr>\n      <th>211</th>\n      <td>9703</td>\n      <td>3177</td>\n      <td>854</td>\n      <td>398</td>\n      <td>207</td>\n      <td>226</td>\n      <td>14</td>\n      <td>2266</td>\n      <td>15848</td>\n      <td>3107</td>\n      <td>667</td>\n      <td>4793</td>\n      <td>0</td>\n      <td>2022-08-19 17:35:00</td>\n    </tr>\n    <tr>\n      <th>212</th>\n      <td>9392</td>\n      <td>3151</td>\n      <td>853</td>\n      <td>399</td>\n      <td>207</td>\n      <td>228</td>\n      <td>15</td>\n      <td>2266</td>\n      <td>15971</td>\n      <td>3118</td>\n      <td>628</td>\n      <td>5091</td>\n      <td>0</td>\n      <td>2022-08-19 17:40:00</td>\n    </tr>\n    <tr>\n      <th>213</th>\n      <td>8996</td>\n      <td>3180</td>\n      <td>854</td>\n      <td>399</td>\n      <td>207</td>\n      <td>229</td>\n      <td>14</td>\n      <td>2266</td>\n      <td>16120</td>\n      <td>3131</td>\n      <td>634</td>\n      <td>5384</td>\n      <td>0</td>\n      <td>2022-08-19 17:45:00</td>\n    </tr>\n    <tr>\n      <th>214</th>\n      <td>8519</td>\n      <td>3179</td>\n      <td>855</td>\n      <td>399</td>\n      <td>207</td>\n      <td>228</td>\n      <td>14</td>\n      <td>2266</td>\n      <td>16377</td>\n      <td>3150</td>\n      <td>825</td>\n      <td>5413</td>\n      <td>0</td>\n      <td>2022-08-19 17:50:00</td>\n    </tr>\n    <tr>\n      <th>215</th>\n      <td>8019</td>\n      <td>3158</td>\n      <td>854</td>\n      <td>399</td>\n      <td>207</td>\n      <td>228</td>\n      <td>14</td>\n      <td>2266</td>\n      <td>16561</td>\n      <td>3204</td>\n      <td>848</td>\n      <td>5534</td>\n      <td>0</td>\n      <td>2022-08-19 17:55:00</td>\n    </tr>\n  </tbody>\n</table>\n<p>216 rows × 14 columns</p>\n</div>"
     },
     "execution_count": 25,
     "metadata": {},
     "output_type": "execute_result"
    }
   ],
   "source": [
    "supply_trend"
   ],
   "metadata": {
    "collapsed": false,
    "pycharm": {
     "name": "#%%\n"
    }
   }
  },
  {
   "cell_type": "code",
   "execution_count": null,
   "outputs": [],
   "source": [],
   "metadata": {
    "collapsed": false,
    "pycharm": {
     "name": "#%%\n"
    }
   }
  }
 ],
 "metadata": {
  "kernelspec": {
   "display_name": "Python 3",
   "language": "python",
   "name": "python3"
  },
  "language_info": {
   "codemirror_mode": {
    "name": "ipython",
    "version": 2
   },
   "file_extension": ".py",
   "mimetype": "text/x-python",
   "name": "python",
   "nbconvert_exporter": "python",
   "pygments_lexer": "ipython2",
   "version": "2.7.6"
  }
 },
 "nbformat": 4,
 "nbformat_minor": 0
}